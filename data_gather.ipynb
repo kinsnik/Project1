{
 "cells": [
  {
   "cell_type": "code",
   "execution_count": 1,
   "id": "3b6c46e9",
   "metadata": {},
   "outputs": [],
   "source": [
    "import pandas as pd \n",
    "import sqlalchemy as sql\n",
    "import alpaca_trade_api as tradeapi \n",
    "import os\n",
    "from dotenv import load_dotenv\n",
    "#import hvplot.pandas \n",
    "%matplotlib inline "
   ]
  },
  {
   "cell_type": "code",
   "execution_count": 2,
   "id": "5d8629dd",
   "metadata": {},
   "outputs": [
    {
     "data": {
      "text/plain": [
       "True"
      ]
     },
     "execution_count": 2,
     "metadata": {},
     "output_type": "execute_result"
    }
   ],
   "source": [
    "load_dotenv()"
   ]
  },
  {
   "cell_type": "code",
   "execution_count": 3,
   "id": "71d98cb4",
   "metadata": {},
   "outputs": [
    {
     "data": {
      "text/plain": [
       "str"
      ]
     },
     "metadata": {},
     "output_type": "display_data"
    },
    {
     "data": {
      "text/plain": [
       "str"
      ]
     },
     "metadata": {},
     "output_type": "display_data"
    }
   ],
   "source": [
    "alpaca_api_key = os.getenv(\"ALPACA_API_KEY\")\n",
    "alpaca_secret_key = os.getenv(\"ALPACA_SECRET_KEY\")\n",
    "display(type(alpaca_api_key))\n",
    "display(type(alpaca_secret_key))"
   ]
  },
  {
   "cell_type": "code",
   "execution_count": 4,
   "id": "351b0eb8",
   "metadata": {},
   "outputs": [],
   "source": [
    "#building the API, setting timeframe and daily prices  \n",
    "\n",
    "alpaca=tradeapi.REST(\n",
    "    alpaca_api_key,\n",
    "    alpaca_secret_key,\n",
    "    api_version = 'v2')\n",
    "\n",
    "tickers = ['USO', 'TSLA', 'SPY']\n",
    "start_date = pd.Timestamp(\"2010-06-29\", tz=\"America/New_York\").isoformat() #according to yahoo finance tsla issued shares on this date\n",
    "end_date = pd.Timestamp(\"2021-10-15\", tz=\"America/New_York\").isoformat()\n",
    "\n",
    "timeframe = \"1D\""
   ]
  },
  {
   "cell_type": "code",
   "execution_count": 5,
   "id": "a25f03db",
   "metadata": {},
   "outputs": [],
   "source": [
    "#creating pandas df with alpaca API\n",
    "\n",
    "prices_df = alpaca.get_barset(\n",
    "    tickers,\n",
    "    timeframe,\n",
    "    start=start_date,\n",
    "    end=end_date,\n",
    ").df\n"
   ]
  },
  {
   "cell_type": "code",
   "execution_count": 6,
   "id": "487924c6",
   "metadata": {},
   "outputs": [
    {
     "data": {
      "text/html": [
       "<div>\n",
       "<style scoped>\n",
       "    .dataframe tbody tr th:only-of-type {\n",
       "        vertical-align: middle;\n",
       "    }\n",
       "\n",
       "    .dataframe tbody tr th {\n",
       "        vertical-align: top;\n",
       "    }\n",
       "\n",
       "    .dataframe thead th {\n",
       "        text-align: right;\n",
       "    }\n",
       "</style>\n",
       "<table border=\"1\" class=\"dataframe\">\n",
       "  <thead>\n",
       "    <tr style=\"text-align: right;\">\n",
       "      <th></th>\n",
       "      <th>USO</th>\n",
       "      <th>TSLA</th>\n",
       "      <th>SPY</th>\n",
       "    </tr>\n",
       "    <tr>\n",
       "      <th>Date</th>\n",
       "      <th></th>\n",
       "      <th></th>\n",
       "      <th></th>\n",
       "    </tr>\n",
       "  </thead>\n",
       "  <tbody>\n",
       "    <tr>\n",
       "      <th>2021-05-26</th>\n",
       "      <td>45.210</td>\n",
       "      <td>619.1900</td>\n",
       "      <td>419.04</td>\n",
       "    </tr>\n",
       "    <tr>\n",
       "      <th>2021-05-27</th>\n",
       "      <td>45.555</td>\n",
       "      <td>630.6000</td>\n",
       "      <td>419.69</td>\n",
       "    </tr>\n",
       "    <tr>\n",
       "      <th>2021-05-28</th>\n",
       "      <td>45.430</td>\n",
       "      <td>625.7100</td>\n",
       "      <td>420.02</td>\n",
       "    </tr>\n",
       "    <tr>\n",
       "      <th>2021-06-01</th>\n",
       "      <td>46.330</td>\n",
       "      <td>624.0300</td>\n",
       "      <td>419.63</td>\n",
       "    </tr>\n",
       "    <tr>\n",
       "      <th>2021-06-02</th>\n",
       "      <td>46.910</td>\n",
       "      <td>605.0001</td>\n",
       "      <td>420.38</td>\n",
       "    </tr>\n",
       "  </tbody>\n",
       "</table>\n",
       "</div>"
      ],
      "text/plain": [
       "               USO      TSLA     SPY\n",
       "Date                                \n",
       "2021-05-26  45.210  619.1900  419.04\n",
       "2021-05-27  45.555  630.6000  419.69\n",
       "2021-05-28  45.430  625.7100  420.02\n",
       "2021-06-01  46.330  624.0300  419.63\n",
       "2021-06-02  46.910  605.0001  420.38"
      ]
     },
     "execution_count": 6,
     "metadata": {},
     "output_type": "execute_result"
    }
   ],
   "source": [
    "#creating closing prices df from larger prices_df \n",
    "\n",
    "closing_prices_df = pd.DataFrame()\n",
    "\n",
    "for ticker in tickers:\n",
    "    closing_prices_df[ticker] = prices_df[ticker][\"close\"]\n",
    "\n",
    "closing_prices_df.index = closing_prices_df.index.date\n",
    "\n",
    "closing_prices_df.index.name ='Date'\n",
    "#closing_prices_df.columns(['date', 'USO', 'TSLA', 'SPY'])\n",
    "\n",
    "closing_prices_df.head()"
   ]
  },
  {
   "cell_type": "code",
   "execution_count": 7,
   "id": "c2db3aa7",
   "metadata": {},
   "outputs": [
    {
     "data": {
      "text/plain": [
       "Engine(sqlite:///)"
      ]
     },
     "execution_count": 7,
     "metadata": {},
     "output_type": "execute_result"
    }
   ],
   "source": [
    "# Working with SQL in order to not ping the Alpaca API too much  \n",
    "#Creating SQL connection/engine\n",
    "\n",
    "database_connection_string = 'sqlite:///'\n",
    "engine = sql.create_engine(database_connection_string)\n",
    "engine"
   ]
  },
  {
   "cell_type": "code",
   "execution_count": 8,
   "id": "d3deb4c6",
   "metadata": {},
   "outputs": [],
   "source": [
    "#shoving closing_prices_df from Alpaca into a SQL Table \n",
    "\n",
    "closing_prices_df.to_sql('closing_prices', engine, index= True, if_exists='replace' )\n"
   ]
  },
  {
   "cell_type": "code",
   "execution_count": 13,
   "id": "0c0dfa6c-92a6-4995-bc12-b15e307256b6",
   "metadata": {},
   "outputs": [
    {
     "name": "stderr",
     "output_type": "stream",
     "text": [
      "<ipython-input-13-d72bc75a6b62>:1: SADeprecationWarning: The Engine.table_names() method is deprecated and will be removed in a future release.  Please refer to Inspector.get_table_names(). (deprecated since: 1.4)\n",
      "  engine.table_names()\n"
     ]
    },
    {
     "data": {
      "text/plain": [
       "['closing_prices']"
      ]
     },
     "execution_count": 13,
     "metadata": {},
     "output_type": "execute_result"
    }
   ],
   "source": [
    "engine.table_names()\n"
   ]
  },
  {
   "cell_type": "code",
   "execution_count": null,
   "id": "9746d6f5-b5f7-4142-b62c-85422d883d05",
   "metadata": {},
   "outputs": [],
   "source": []
  },
  {
   "cell_type": "code",
   "execution_count": 15,
   "id": "7dbf5bb7",
   "metadata": {},
   "outputs": [
    {
     "data": {
      "text/html": [
       "<div>\n",
       "<style scoped>\n",
       "    .dataframe tbody tr th:only-of-type {\n",
       "        vertical-align: middle;\n",
       "    }\n",
       "\n",
       "    .dataframe tbody tr th {\n",
       "        vertical-align: top;\n",
       "    }\n",
       "\n",
       "    .dataframe thead th {\n",
       "        text-align: right;\n",
       "    }\n",
       "</style>\n",
       "<table border=\"1\" class=\"dataframe\">\n",
       "  <thead>\n",
       "    <tr style=\"text-align: right;\">\n",
       "      <th></th>\n",
       "      <th>Date</th>\n",
       "      <th>USO</th>\n",
       "      <th>TSLA</th>\n",
       "      <th>SPY</th>\n",
       "    </tr>\n",
       "  </thead>\n",
       "  <tbody>\n",
       "    <tr>\n",
       "      <th>0</th>\n",
       "      <td>2021-05-26</td>\n",
       "      <td>45.210</td>\n",
       "      <td>619.1900</td>\n",
       "      <td>419.04</td>\n",
       "    </tr>\n",
       "    <tr>\n",
       "      <th>1</th>\n",
       "      <td>2021-05-27</td>\n",
       "      <td>45.555</td>\n",
       "      <td>630.6000</td>\n",
       "      <td>419.69</td>\n",
       "    </tr>\n",
       "    <tr>\n",
       "      <th>2</th>\n",
       "      <td>2021-05-28</td>\n",
       "      <td>45.430</td>\n",
       "      <td>625.7100</td>\n",
       "      <td>420.02</td>\n",
       "    </tr>\n",
       "    <tr>\n",
       "      <th>3</th>\n",
       "      <td>2021-06-01</td>\n",
       "      <td>46.330</td>\n",
       "      <td>624.0300</td>\n",
       "      <td>419.63</td>\n",
       "    </tr>\n",
       "    <tr>\n",
       "      <th>4</th>\n",
       "      <td>2021-06-02</td>\n",
       "      <td>46.910</td>\n",
       "      <td>605.0001</td>\n",
       "      <td>420.38</td>\n",
       "    </tr>\n",
       "  </tbody>\n",
       "</table>\n",
       "</div>"
      ],
      "text/plain": [
       "        Date     USO      TSLA     SPY\n",
       "0 2021-05-26  45.210  619.1900  419.04\n",
       "1 2021-05-27  45.555  630.6000  419.69\n",
       "2 2021-05-28  45.430  625.7100  420.02\n",
       "3 2021-06-01  46.330  624.0300  419.63\n",
       "4 2021-06-02  46.910  605.0001  420.38"
      ]
     },
     "execution_count": 15,
     "metadata": {},
     "output_type": "execute_result"
    }
   ],
   "source": [
    "#Code to grab the data from the SQL table into a pandas df to analyze further \n",
    "\n",
    "closing_prices_sql_df = pd.read_sql_table ('closing_prices', con=engine, parse_dates=['Date'])\n",
    "closing_prices_sql_df.head()"
   ]
  },
  {
   "cell_type": "code",
   "execution_count": 31,
   "id": "5ce113cb-ecd7-45c5-a626-5ff3d344bed9",
   "metadata": {},
   "outputs": [
    {
     "data": {
      "text/html": [
       "<div>\n",
       "<style scoped>\n",
       "    .dataframe tbody tr th:only-of-type {\n",
       "        vertical-align: middle;\n",
       "    }\n",
       "\n",
       "    .dataframe tbody tr th {\n",
       "        vertical-align: top;\n",
       "    }\n",
       "\n",
       "    .dataframe thead th {\n",
       "        text-align: right;\n",
       "    }\n",
       "</style>\n",
       "<table border=\"1\" class=\"dataframe\">\n",
       "  <thead>\n",
       "    <tr style=\"text-align: right;\">\n",
       "      <th></th>\n",
       "      <th>USO</th>\n",
       "      <th>TSLA</th>\n",
       "      <th>SPY</th>\n",
       "      <th>USO_pct_change</th>\n",
       "      <th>TSLA_pct_change</th>\n",
       "      <th>SPY_pct_change</th>\n",
       "    </tr>\n",
       "    <tr>\n",
       "      <th>Date</th>\n",
       "      <th></th>\n",
       "      <th></th>\n",
       "      <th></th>\n",
       "      <th></th>\n",
       "      <th></th>\n",
       "      <th></th>\n",
       "    </tr>\n",
       "  </thead>\n",
       "  <tbody>\n",
       "    <tr>\n",
       "      <th>2021-05-26</th>\n",
       "      <td>45.210</td>\n",
       "      <td>619.1900</td>\n",
       "      <td>419.04</td>\n",
       "      <td>NaN</td>\n",
       "      <td>NaN</td>\n",
       "      <td>NaN</td>\n",
       "    </tr>\n",
       "    <tr>\n",
       "      <th>2021-05-27</th>\n",
       "      <td>45.555</td>\n",
       "      <td>630.6000</td>\n",
       "      <td>419.69</td>\n",
       "      <td>0.007631</td>\n",
       "      <td>0.018427</td>\n",
       "      <td>0.001551</td>\n",
       "    </tr>\n",
       "    <tr>\n",
       "      <th>2021-05-28</th>\n",
       "      <td>45.430</td>\n",
       "      <td>625.7100</td>\n",
       "      <td>420.02</td>\n",
       "      <td>-0.002744</td>\n",
       "      <td>-0.007755</td>\n",
       "      <td>0.000786</td>\n",
       "    </tr>\n",
       "    <tr>\n",
       "      <th>2021-06-01</th>\n",
       "      <td>46.330</td>\n",
       "      <td>624.0300</td>\n",
       "      <td>419.63</td>\n",
       "      <td>0.019811</td>\n",
       "      <td>-0.002685</td>\n",
       "      <td>-0.000929</td>\n",
       "    </tr>\n",
       "    <tr>\n",
       "      <th>2021-06-02</th>\n",
       "      <td>46.910</td>\n",
       "      <td>605.0001</td>\n",
       "      <td>420.38</td>\n",
       "      <td>0.012519</td>\n",
       "      <td>-0.030495</td>\n",
       "      <td>0.001787</td>\n",
       "    </tr>\n",
       "  </tbody>\n",
       "</table>\n",
       "</div>"
      ],
      "text/plain": [
       "               USO      TSLA     SPY  USO_pct_change  TSLA_pct_change  \\\n",
       "Date                                                                    \n",
       "2021-05-26  45.210  619.1900  419.04             NaN              NaN   \n",
       "2021-05-27  45.555  630.6000  419.69        0.007631         0.018427   \n",
       "2021-05-28  45.430  625.7100  420.02       -0.002744        -0.007755   \n",
       "2021-06-01  46.330  624.0300  419.63        0.019811        -0.002685   \n",
       "2021-06-02  46.910  605.0001  420.38        0.012519        -0.030495   \n",
       "\n",
       "            SPY_pct_change  \n",
       "Date                        \n",
       "2021-05-26             NaN  \n",
       "2021-05-27        0.001551  \n",
       "2021-05-28        0.000786  \n",
       "2021-06-01       -0.000929  \n",
       "2021-06-02        0.001787  "
      ]
     },
     "execution_count": 31,
     "metadata": {},
     "output_type": "execute_result"
    }
   ],
   "source": [
    "closing_prices_sql_df['USO_pct_change']= closing_prices_sql_df['USO'].pct_change().dropna()\n",
    "closing_prices_sql_df['TSLA_pct_change']= closing_prices_sql_df['TSLA'].pct_change().dropna()\n",
    "closing_prices_sql_df['SPY_pct_change']= closing_prices_sql_df['SPY'].pct_change().dropna()\n",
    "\n",
    "closing_prices_sql_df.head()"
   ]
  },
  {
   "cell_type": "code",
   "execution_count": 24,
   "id": "01ccbc4e",
   "metadata": {},
   "outputs": [],
   "source": []
  },
  {
   "cell_type": "code",
   "execution_count": null,
   "id": "8ca6f6a1",
   "metadata": {},
   "outputs": [],
   "source": []
  },
  {
   "cell_type": "code",
   "execution_count": null,
   "id": "8783efb3",
   "metadata": {},
   "outputs": [],
   "source": []
  },
  {
   "cell_type": "code",
   "execution_count": null,
   "id": "7a6217bf",
   "metadata": {},
   "outputs": [],
   "source": []
  },
  {
   "cell_type": "code",
   "execution_count": null,
   "id": "3b637688",
   "metadata": {},
   "outputs": [],
   "source": []
  },
  {
   "cell_type": "code",
   "execution_count": null,
   "id": "acaec3b7",
   "metadata": {},
   "outputs": [],
   "source": []
  },
  {
   "cell_type": "code",
   "execution_count": null,
   "id": "6b3a32b3",
   "metadata": {},
   "outputs": [],
   "source": []
  }
 ],
 "metadata": {
  "kernelspec": {
   "display_name": "Python 3",
   "language": "python",
   "name": "python3"
  },
  "language_info": {
   "codemirror_mode": {
    "name": "ipython",
    "version": 3
   },
   "file_extension": ".py",
   "mimetype": "text/x-python",
   "name": "python",
   "nbconvert_exporter": "python",
   "pygments_lexer": "ipython3",
   "version": "3.8.8"
  }
 },
 "nbformat": 4,
 "nbformat_minor": 5
}
