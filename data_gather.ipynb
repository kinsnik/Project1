{
 "cells": [
  {
   "cell_type": "code",
   "execution_count": 1,
   "id": "3b6c46e9",
   "metadata": {},
   "outputs": [],
   "source": [
    "import pandas as pd \n",
    "import sqlalchemy as sql\n",
    "import alpaca_trade_api as tradeapi \n",
    "import os\n",
    "from dotenv import load_dotenv\n",
    "#import hvplot.pandas \n",
    "%matplotlib inline "
   ]
  },
  {
   "cell_type": "code",
   "execution_count": 2,
   "id": "5d8629dd",
   "metadata": {},
   "outputs": [
    {
     "data": {
      "text/plain": [
       "True"
      ]
     },
     "execution_count": 2,
     "metadata": {},
     "output_type": "execute_result"
    }
   ],
   "source": [
    "load_dotenv()"
   ]
  },
  {
   "cell_type": "code",
   "execution_count": 3,
   "id": "71d98cb4",
   "metadata": {},
   "outputs": [
    {
     "data": {
      "text/plain": [
       "str"
      ]
     },
     "metadata": {},
     "output_type": "display_data"
    },
    {
     "data": {
      "text/plain": [
       "str"
      ]
     },
     "metadata": {},
     "output_type": "display_data"
    }
   ],
   "source": [
    "alpaca_api_key = os.getenv(\"ALPACA_API_KEY\")\n",
    "alpaca_secret_key = os.getenv(\"ALPACA_SECRET_KEY\")\n",
    "display(type(alpaca_api_key))\n",
    "display(type(alpaca_secret_key))"
   ]
  },
  {
   "cell_type": "code",
   "execution_count": 4,
   "id": "351b0eb8",
   "metadata": {},
   "outputs": [],
   "source": [
    "#building the API, setting timeframe and daily prices  \n",
    "\n",
    "alpaca=tradeapi.REST(\n",
    "    alpaca_api_key,\n",
    "    alpaca_secret_key,\n",
    "    api_version = 'v2')\n",
    "\n",
    "tickers = ['USO', 'TSLA', 'SPY']\n",
    "start_date = pd.Timestamp(\"2010-06-29\", tz=\"America/New_York\").isoformat() #according to yahoo finance tsla issued shares on this date\n",
    "end_date = pd.Timestamp(\"2021-10-15\", tz=\"America/New_York\").isoformat()\n",
    "\n",
    "timeframe = \"1D\""
   ]
  },
  {
   "cell_type": "code",
   "execution_count": 5,
   "id": "a25f03db",
   "metadata": {},
   "outputs": [],
   "source": [
    "#creating pandas df with alpaca API\n",
    "\n",
    "prices_df = alpaca.get_barset(\n",
    "    tickers,\n",
    "    timeframe,\n",
    "    start=start_date,\n",
    "    end=end_date,\n",
    ").df\n"
   ]
  },
  {
   "cell_type": "code",
   "execution_count": 6,
   "id": "487924c6",
   "metadata": {},
   "outputs": [
    {
     "data": {
      "text/html": [
       "<div>\n",
       "<style scoped>\n",
       "    .dataframe tbody tr th:only-of-type {\n",
       "        vertical-align: middle;\n",
       "    }\n",
       "\n",
       "    .dataframe tbody tr th {\n",
       "        vertical-align: top;\n",
       "    }\n",
       "\n",
       "    .dataframe thead th {\n",
       "        text-align: right;\n",
       "    }\n",
       "</style>\n",
       "<table border=\"1\" class=\"dataframe\">\n",
       "  <thead>\n",
       "    <tr style=\"text-align: right;\">\n",
       "      <th></th>\n",
       "      <th>USO</th>\n",
       "      <th>TSLA</th>\n",
       "      <th>SPY</th>\n",
       "    </tr>\n",
       "  </thead>\n",
       "  <tbody>\n",
       "    <tr>\n",
       "      <th>2021-05-26</th>\n",
       "      <td>45.210</td>\n",
       "      <td>619.1900</td>\n",
       "      <td>419.04</td>\n",
       "    </tr>\n",
       "    <tr>\n",
       "      <th>2021-05-27</th>\n",
       "      <td>45.555</td>\n",
       "      <td>630.6000</td>\n",
       "      <td>419.69</td>\n",
       "    </tr>\n",
       "    <tr>\n",
       "      <th>2021-05-28</th>\n",
       "      <td>45.430</td>\n",
       "      <td>625.7100</td>\n",
       "      <td>420.02</td>\n",
       "    </tr>\n",
       "    <tr>\n",
       "      <th>2021-06-01</th>\n",
       "      <td>46.330</td>\n",
       "      <td>624.0300</td>\n",
       "      <td>419.63</td>\n",
       "    </tr>\n",
       "    <tr>\n",
       "      <th>2021-06-02</th>\n",
       "      <td>46.910</td>\n",
       "      <td>605.0001</td>\n",
       "      <td>420.38</td>\n",
       "    </tr>\n",
       "  </tbody>\n",
       "</table>\n",
       "</div>"
      ],
      "text/plain": [
       "               USO      TSLA     SPY\n",
       "2021-05-26  45.210  619.1900  419.04\n",
       "2021-05-27  45.555  630.6000  419.69\n",
       "2021-05-28  45.430  625.7100  420.02\n",
       "2021-06-01  46.330  624.0300  419.63\n",
       "2021-06-02  46.910  605.0001  420.38"
      ]
     },
     "execution_count": 6,
     "metadata": {},
     "output_type": "execute_result"
    }
   ],
   "source": [
    "#creating closing prices df from larger prices_df \n",
    "\n",
    "closing_prices_df = pd.DataFrame()\n",
    "\n",
    "for ticker in tickers:\n",
    "    closing_prices_df[ticker] = prices_df[ticker][\"close\"]\n",
    "\n",
    "closing_prices_df.index = closing_prices_df.index.date\n",
    "\n",
    "closing_prices_df.head()"
   ]
  },
  {
   "cell_type": "code",
   "execution_count": 7,
   "id": "c2db3aa7",
   "metadata": {},
   "outputs": [
    {
     "data": {
      "text/plain": [
       "Engine(sqlite:///)"
      ]
     },
     "execution_count": 7,
     "metadata": {},
     "output_type": "execute_result"
    }
   ],
   "source": [
    "# Working with SQL in order to not ping the Alpaca API too much  \n",
    "#Creating SQL connection/engine\n",
    "\n",
    "database_connection_string = 'sqlite:///'\n",
    "engine = sql.create_engine(database_connection_string)\n",
    "engine"
   ]
  },
  {
   "cell_type": "code",
   "execution_count": 8,
   "id": "d3deb4c6",
   "metadata": {},
   "outputs": [],
   "source": [
    "#shoving closing_prices_df from Alpaca into a SQL Table \n",
    "\n",
    "closing_prices_df.to_sql('closing_prices', engine, index= False, if_exists='replace' )\n"
   ]
  },
  {
   "cell_type": "code",
   "execution_count": 9,
   "id": "7dbf5bb7",
   "metadata": {},
   "outputs": [
    {
     "data": {
      "text/html": [
       "<div>\n",
       "<style scoped>\n",
       "    .dataframe tbody tr th:only-of-type {\n",
       "        vertical-align: middle;\n",
       "    }\n",
       "\n",
       "    .dataframe tbody tr th {\n",
       "        vertical-align: top;\n",
       "    }\n",
       "\n",
       "    .dataframe thead th {\n",
       "        text-align: right;\n",
       "    }\n",
       "</style>\n",
       "<table border=\"1\" class=\"dataframe\">\n",
       "  <thead>\n",
       "    <tr style=\"text-align: right;\">\n",
       "      <th></th>\n",
       "      <th>USO</th>\n",
       "      <th>TSLA</th>\n",
       "      <th>SPY</th>\n",
       "    </tr>\n",
       "  </thead>\n",
       "  <tbody>\n",
       "    <tr>\n",
       "      <th>0</th>\n",
       "      <td>45.210</td>\n",
       "      <td>619.1900</td>\n",
       "      <td>419.04</td>\n",
       "    </tr>\n",
       "    <tr>\n",
       "      <th>1</th>\n",
       "      <td>45.555</td>\n",
       "      <td>630.6000</td>\n",
       "      <td>419.69</td>\n",
       "    </tr>\n",
       "    <tr>\n",
       "      <th>2</th>\n",
       "      <td>45.430</td>\n",
       "      <td>625.7100</td>\n",
       "      <td>420.02</td>\n",
       "    </tr>\n",
       "    <tr>\n",
       "      <th>3</th>\n",
       "      <td>46.330</td>\n",
       "      <td>624.0300</td>\n",
       "      <td>419.63</td>\n",
       "    </tr>\n",
       "    <tr>\n",
       "      <th>4</th>\n",
       "      <td>46.910</td>\n",
       "      <td>605.0001</td>\n",
       "      <td>420.38</td>\n",
       "    </tr>\n",
       "  </tbody>\n",
       "</table>\n",
       "</div>"
      ],
      "text/plain": [
       "      USO      TSLA     SPY\n",
       "0  45.210  619.1900  419.04\n",
       "1  45.555  630.6000  419.69\n",
       "2  45.430  625.7100  420.02\n",
       "3  46.330  624.0300  419.63\n",
       "4  46.910  605.0001  420.38"
      ]
     },
     "execution_count": 9,
     "metadata": {},
     "output_type": "execute_result"
    }
   ],
   "source": [
    "#Code to grab the data from the SQL table into a pandas df to analyze further \n",
    "\n",
    "closing_prices_df = pd.read_sql_table ('closing_prices', con=engine)\n",
    "closing_prices_df.head()"
   ]
  },
  {
   "cell_type": "code",
   "execution_count": 11,
   "id": "01ccbc4e",
   "metadata": {},
   "outputs": [
    {
     "data": {
      "text/html": [
       "<div>\n",
       "<style scoped>\n",
       "    .dataframe tbody tr th:only-of-type {\n",
       "        vertical-align: middle;\n",
       "    }\n",
       "\n",
       "    .dataframe tbody tr th {\n",
       "        vertical-align: top;\n",
       "    }\n",
       "\n",
       "    .dataframe thead th {\n",
       "        text-align: right;\n",
       "    }\n",
       "</style>\n",
       "<table border=\"1\" class=\"dataframe\">\n",
       "  <thead>\n",
       "    <tr style=\"text-align: right;\">\n",
       "      <th></th>\n",
       "      <th>USO</th>\n",
       "      <th>TSLA</th>\n",
       "      <th>SPY</th>\n",
       "    </tr>\n",
       "  </thead>\n",
       "  <tbody>\n",
       "    <tr>\n",
       "      <th>1</th>\n",
       "      <td>0.007631</td>\n",
       "      <td>0.018427</td>\n",
       "      <td>0.001551</td>\n",
       "    </tr>\n",
       "    <tr>\n",
       "      <th>2</th>\n",
       "      <td>-0.002744</td>\n",
       "      <td>-0.007755</td>\n",
       "      <td>0.000786</td>\n",
       "    </tr>\n",
       "    <tr>\n",
       "      <th>3</th>\n",
       "      <td>0.019811</td>\n",
       "      <td>-0.002685</td>\n",
       "      <td>-0.000929</td>\n",
       "    </tr>\n",
       "    <tr>\n",
       "      <th>4</th>\n",
       "      <td>0.012519</td>\n",
       "      <td>-0.030495</td>\n",
       "      <td>0.001787</td>\n",
       "    </tr>\n",
       "    <tr>\n",
       "      <th>5</th>\n",
       "      <td>0.001279</td>\n",
       "      <td>-0.053182</td>\n",
       "      <td>-0.003616</td>\n",
       "    </tr>\n",
       "    <tr>\n",
       "      <th>...</th>\n",
       "      <td>...</td>\n",
       "      <td>...</td>\n",
       "      <td>...</td>\n",
       "    </tr>\n",
       "    <tr>\n",
       "      <th>95</th>\n",
       "      <td>0.012622</td>\n",
       "      <td>0.007835</td>\n",
       "      <td>-0.007195</td>\n",
       "    </tr>\n",
       "    <tr>\n",
       "      <th>96</th>\n",
       "      <td>-0.000890</td>\n",
       "      <td>0.017760</td>\n",
       "      <td>-0.002393</td>\n",
       "    </tr>\n",
       "    <tr>\n",
       "      <th>97</th>\n",
       "      <td>0.001069</td>\n",
       "      <td>0.006876</td>\n",
       "      <td>0.003459</td>\n",
       "    </tr>\n",
       "    <tr>\n",
       "      <th>98</th>\n",
       "      <td>0.011216</td>\n",
       "      <td>0.008308</td>\n",
       "      <td>0.016869</td>\n",
       "    </tr>\n",
       "    <tr>\n",
       "      <th>99</th>\n",
       "      <td>0.006338</td>\n",
       "      <td>0.030635</td>\n",
       "      <td>0.007594</td>\n",
       "    </tr>\n",
       "  </tbody>\n",
       "</table>\n",
       "<p>99 rows × 3 columns</p>\n",
       "</div>"
      ],
      "text/plain": [
       "         USO      TSLA       SPY\n",
       "1   0.007631  0.018427  0.001551\n",
       "2  -0.002744 -0.007755  0.000786\n",
       "3   0.019811 -0.002685 -0.000929\n",
       "4   0.012519 -0.030495  0.001787\n",
       "5   0.001279 -0.053182 -0.003616\n",
       "..       ...       ...       ...\n",
       "95  0.012622  0.007835 -0.007195\n",
       "96 -0.000890  0.017760 -0.002393\n",
       "97  0.001069  0.006876  0.003459\n",
       "98  0.011216  0.008308  0.016869\n",
       "99  0.006338  0.030635  0.007594\n",
       "\n",
       "[99 rows x 3 columns]"
      ]
     },
     "execution_count": 11,
     "metadata": {},
     "output_type": "execute_result"
    }
   ],
   "source": [
    "daily_percent_change_df = closing_prices_df.pct_change().dropna()\n",
    "daily_percent_change_df"
   ]
  },
  {
   "cell_type": "code",
   "execution_count": null,
   "id": "8ca6f6a1",
   "metadata": {},
   "outputs": [],
   "source": []
  },
  {
   "cell_type": "code",
   "execution_count": null,
   "id": "8783efb3",
   "metadata": {},
   "outputs": [],
   "source": []
  },
  {
   "cell_type": "code",
   "execution_count": null,
   "id": "7a6217bf",
   "metadata": {},
   "outputs": [],
   "source": []
  },
  {
   "cell_type": "code",
   "execution_count": null,
   "id": "3b637688",
   "metadata": {},
   "outputs": [],
   "source": []
  },
  {
   "cell_type": "code",
   "execution_count": null,
   "id": "acaec3b7",
   "metadata": {},
   "outputs": [],
   "source": []
  },
  {
   "cell_type": "code",
   "execution_count": null,
   "id": "6b3a32b3",
   "metadata": {},
   "outputs": [],
   "source": []
  }
 ],
 "metadata": {
  "kernelspec": {
   "display_name": "Python 3",
   "language": "python",
   "name": "python3"
  },
  "language_info": {
   "codemirror_mode": {
    "name": "ipython",
    "version": 3
   },
   "file_extension": ".py",
   "mimetype": "text/x-python",
   "name": "python",
   "nbconvert_exporter": "python",
   "pygments_lexer": "ipython3",
   "version": "3.8.8"
  }
 },
 "nbformat": 4,
 "nbformat_minor": 5
}
