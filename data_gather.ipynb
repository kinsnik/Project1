{
 "cells": [
  {
   "cell_type": "code",
   "execution_count": 2,
   "id": "3b6c46e9",
   "metadata": {},
   "outputs": [],
   "source": [
    "import pandas as pd \n",
    "import sqlalchemy as sql\n",
    "import alpaca_trade_api as tradeapi \n",
    "import os\n",
    "from dotenv import load_dotenv\n",
    "#import hvplot.pandas \n",
    "%matplotlib inline "
   ]
  },
  {
   "cell_type": "code",
   "execution_count": 3,
   "id": "5d8629dd",
   "metadata": {},
   "outputs": [
    {
     "data": {
      "text/plain": [
       "True"
      ]
     },
     "execution_count": 3,
     "metadata": {},
     "output_type": "execute_result"
    }
   ],
   "source": [
    "load_dotenv()"
   ]
  },
  {
   "cell_type": "code",
   "execution_count": 4,
   "id": "71d98cb4",
   "metadata": {},
   "outputs": [
    {
     "data": {
      "text/plain": [
       "str"
      ]
     },
     "metadata": {},
     "output_type": "display_data"
    },
    {
     "data": {
      "text/plain": [
       "str"
      ]
     },
     "metadata": {},
     "output_type": "display_data"
    }
   ],
   "source": [
    "alpaca_api_key = os.getenv(\"ALPACA_API_KEY\")\n",
    "alpaca_secret_key = os.getenv(\"ALPACA_SECRET_KEY\")\n",
    "display(type(alpaca_api_key))\n",
    "display(type(alpaca_secret_key))"
   ]
  },
  {
   "cell_type": "code",
   "execution_count": 5,
   "id": "351b0eb8",
   "metadata": {},
   "outputs": [],
   "source": [
    "#building the API, setting timeframe and daily prices  \n",
    "\n",
    "alpaca=tradeapi.REST(\n",
    "    alpaca_api_key,\n",
    "    alpaca_secret_key,\n",
    "    api_version = 'v2')\n",
    "\n",
    "tickers = ['USO', 'TSLA', 'SPY']\n",
    "start_date = pd.Timestamp(\"2010-06-29\", tz=\"America/New_York\").isoformat() #according to yahoo finance tsla issued shares on this date\n",
    "end_date = pd.Timestamp(\"2021-10-15\", tz=\"America/New_York\").isoformat()\n",
    "\n",
    "timeframe = \"1D\""
   ]
  },
  {
   "cell_type": "code",
   "execution_count": 6,
   "id": "a25f03db",
   "metadata": {},
   "outputs": [],
   "source": [
    "#creating pandas df with alpaca API\n",
    "\n",
    "prices_df = alpaca.get_barset(\n",
    "    tickers,\n",
    "    timeframe,\n",
    "    start=start_date,\n",
    "    end=end_date,\n",
    ").df\n"
   ]
  },
  {
   "cell_type": "code",
   "execution_count": 7,
   "id": "487924c6",
   "metadata": {},
   "outputs": [
    {
     "data": {
      "text/html": [
       "<div>\n",
       "<style scoped>\n",
       "    .dataframe tbody tr th:only-of-type {\n",
       "        vertical-align: middle;\n",
       "    }\n",
       "\n",
       "    .dataframe tbody tr th {\n",
       "        vertical-align: top;\n",
       "    }\n",
       "\n",
       "    .dataframe thead th {\n",
       "        text-align: right;\n",
       "    }\n",
       "</style>\n",
       "<table border=\"1\" class=\"dataframe\">\n",
       "  <thead>\n",
       "    <tr style=\"text-align: right;\">\n",
       "      <th></th>\n",
       "      <th>USO</th>\n",
       "      <th>TSLA</th>\n",
       "      <th>SPY</th>\n",
       "    </tr>\n",
       "    <tr>\n",
       "      <th>Date</th>\n",
       "      <th></th>\n",
       "      <th></th>\n",
       "      <th></th>\n",
       "    </tr>\n",
       "  </thead>\n",
       "  <tbody>\n",
       "    <tr>\n",
       "      <th>2021-05-26</th>\n",
       "      <td>45.210</td>\n",
       "      <td>619.1900</td>\n",
       "      <td>419.04</td>\n",
       "    </tr>\n",
       "    <tr>\n",
       "      <th>2021-05-27</th>\n",
       "      <td>45.555</td>\n",
       "      <td>630.6000</td>\n",
       "      <td>419.69</td>\n",
       "    </tr>\n",
       "    <tr>\n",
       "      <th>2021-05-28</th>\n",
       "      <td>45.430</td>\n",
       "      <td>625.7100</td>\n",
       "      <td>420.02</td>\n",
       "    </tr>\n",
       "    <tr>\n",
       "      <th>2021-06-01</th>\n",
       "      <td>46.330</td>\n",
       "      <td>624.0300</td>\n",
       "      <td>419.63</td>\n",
       "    </tr>\n",
       "    <tr>\n",
       "      <th>2021-06-02</th>\n",
       "      <td>46.910</td>\n",
       "      <td>605.0001</td>\n",
       "      <td>420.38</td>\n",
       "    </tr>\n",
       "  </tbody>\n",
       "</table>\n",
       "</div>"
      ],
      "text/plain": [
       "               USO      TSLA     SPY\n",
       "Date                                \n",
       "2021-05-26  45.210  619.1900  419.04\n",
       "2021-05-27  45.555  630.6000  419.69\n",
       "2021-05-28  45.430  625.7100  420.02\n",
       "2021-06-01  46.330  624.0300  419.63\n",
       "2021-06-02  46.910  605.0001  420.38"
      ]
     },
     "execution_count": 7,
     "metadata": {},
     "output_type": "execute_result"
    }
   ],
   "source": [
    "#creating closing prices df from larger prices_df \n",
    "\n",
    "closing_prices_df = pd.DataFrame()\n",
    "\n",
    "for ticker in tickers:\n",
    "    closing_prices_df[ticker] = prices_df[ticker][\"close\"]\n",
    "\n",
    "closing_prices_df.index = closing_prices_df.index.date\n",
    "\n",
    "closing_prices_df.index.name ='Date'\n",
    "#closing_prices_df.columns(['date', 'USO', 'TSLA', 'SPY'])\n",
    "\n",
    "closing_prices_df.head()"
   ]
  },
  {
   "cell_type": "code",
   "execution_count": 8,
   "id": "c2db3aa7",
   "metadata": {},
   "outputs": [
    {
     "data": {
      "text/plain": [
       "Engine(sqlite:///)"
      ]
     },
     "execution_count": 8,
     "metadata": {},
     "output_type": "execute_result"
    }
   ],
   "source": [
    "# Working with SQL in order to not ping the Alpaca API too much  \n",
    "#Creating SQL connection/engine\n",
    "\n",
    "database_connection_string = 'sqlite:///'\n",
    "engine = sql.create_engine(database_connection_string)\n",
    "engine"
   ]
  },
  {
   "cell_type": "code",
   "execution_count": 9,
   "id": "d3deb4c6",
   "metadata": {},
   "outputs": [],
   "source": [
    "#shoving closing_prices_df from Alpaca into a SQL Table \n",
    "\n",
    "closing_prices_df.to_sql('closing_prices', engine, index= True, if_exists='replace' )\n"
   ]
  },
  {
   "cell_type": "code",
   "execution_count": 10,
   "id": "159ba837-2fe7-4faa-a1a8-5f636fdef6c2",
   "metadata": {},
   "outputs": [],
   "source": [
    "#query = \"\"\"\n",
    "#SELECT closing_prices.Date, closing_prices.USO, closing_prices.TSLA, closing_prices.SPY\n",
    "#FROM closing_prices\n",
    "#\"\"\"\n",
    "\n",
    "#sn_prices_df = pd.read_sql_query(query, con=engine)\n",
    "\n",
    "#sn_prices_df.head()\n",
    "\n"
   ]
  },
  {
   "cell_type": "code",
   "execution_count": 11,
   "id": "7dbf5bb7",
   "metadata": {},
   "outputs": [
    {
     "data": {
      "text/html": [
       "<div>\n",
       "<style scoped>\n",
       "    .dataframe tbody tr th:only-of-type {\n",
       "        vertical-align: middle;\n",
       "    }\n",
       "\n",
       "    .dataframe tbody tr th {\n",
       "        vertical-align: top;\n",
       "    }\n",
       "\n",
       "    .dataframe thead th {\n",
       "        text-align: right;\n",
       "    }\n",
       "</style>\n",
       "<table border=\"1\" class=\"dataframe\">\n",
       "  <thead>\n",
       "    <tr style=\"text-align: right;\">\n",
       "      <th></th>\n",
       "      <th>Date</th>\n",
       "      <th>USO</th>\n",
       "      <th>TSLA</th>\n",
       "      <th>SPY</th>\n",
       "    </tr>\n",
       "  </thead>\n",
       "  <tbody>\n",
       "    <tr>\n",
       "      <th>0</th>\n",
       "      <td>2021-05-26</td>\n",
       "      <td>45.210</td>\n",
       "      <td>619.1900</td>\n",
       "      <td>419.04</td>\n",
       "    </tr>\n",
       "    <tr>\n",
       "      <th>1</th>\n",
       "      <td>2021-05-27</td>\n",
       "      <td>45.555</td>\n",
       "      <td>630.6000</td>\n",
       "      <td>419.69</td>\n",
       "    </tr>\n",
       "    <tr>\n",
       "      <th>2</th>\n",
       "      <td>2021-05-28</td>\n",
       "      <td>45.430</td>\n",
       "      <td>625.7100</td>\n",
       "      <td>420.02</td>\n",
       "    </tr>\n",
       "    <tr>\n",
       "      <th>3</th>\n",
       "      <td>2021-06-01</td>\n",
       "      <td>46.330</td>\n",
       "      <td>624.0300</td>\n",
       "      <td>419.63</td>\n",
       "    </tr>\n",
       "    <tr>\n",
       "      <th>4</th>\n",
       "      <td>2021-06-02</td>\n",
       "      <td>46.910</td>\n",
       "      <td>605.0001</td>\n",
       "      <td>420.38</td>\n",
       "    </tr>\n",
       "  </tbody>\n",
       "</table>\n",
       "</div>"
      ],
      "text/plain": [
       "        Date     USO      TSLA     SPY\n",
       "0 2021-05-26  45.210  619.1900  419.04\n",
       "1 2021-05-27  45.555  630.6000  419.69\n",
       "2 2021-05-28  45.430  625.7100  420.02\n",
       "3 2021-06-01  46.330  624.0300  419.63\n",
       "4 2021-06-02  46.910  605.0001  420.38"
      ]
     },
     "execution_count": 11,
     "metadata": {},
     "output_type": "execute_result"
    }
   ],
   "source": [
    "#Code to grab the data from the SQL table into a pandas df to analyze further \n",
    "\n",
    "closing_prices_df = pd.read_sql_table ('closing_prices', con=engine, parse_dates=['Date'])\n",
    "closing_prices_df.head()"
   ]
  },
  {
   "cell_type": "code",
   "execution_count": 12,
   "id": "5ce113cb-ecd7-45c5-a626-5ff3d344bed9",
   "metadata": {},
   "outputs": [
    {
     "data": {
      "text/html": [
       "<div>\n",
       "<style scoped>\n",
       "    .dataframe tbody tr th:only-of-type {\n",
       "        vertical-align: middle;\n",
       "    }\n",
       "\n",
       "    .dataframe tbody tr th {\n",
       "        vertical-align: top;\n",
       "    }\n",
       "\n",
       "    .dataframe thead th {\n",
       "        text-align: right;\n",
       "    }\n",
       "</style>\n",
       "<table border=\"1\" class=\"dataframe\">\n",
       "  <thead>\n",
       "    <tr style=\"text-align: right;\">\n",
       "      <th></th>\n",
       "      <th>USO</th>\n",
       "      <th>TSLA</th>\n",
       "      <th>SPY</th>\n",
       "      <th>USO_pct_change</th>\n",
       "      <th>TSLA_pct_change</th>\n",
       "      <th>SPY_pct_change</th>\n",
       "    </tr>\n",
       "    <tr>\n",
       "      <th>Date</th>\n",
       "      <th></th>\n",
       "      <th></th>\n",
       "      <th></th>\n",
       "      <th></th>\n",
       "      <th></th>\n",
       "      <th></th>\n",
       "    </tr>\n",
       "  </thead>\n",
       "  <tbody>\n",
       "    <tr>\n",
       "      <th>2021-05-26</th>\n",
       "      <td>45.210</td>\n",
       "      <td>619.1900</td>\n",
       "      <td>419.04</td>\n",
       "      <td>NaN</td>\n",
       "      <td>NaN</td>\n",
       "      <td>NaN</td>\n",
       "    </tr>\n",
       "    <tr>\n",
       "      <th>2021-05-27</th>\n",
       "      <td>45.555</td>\n",
       "      <td>630.6000</td>\n",
       "      <td>419.69</td>\n",
       "      <td>0.007631</td>\n",
       "      <td>0.018427</td>\n",
       "      <td>0.001551</td>\n",
       "    </tr>\n",
       "    <tr>\n",
       "      <th>2021-05-28</th>\n",
       "      <td>45.430</td>\n",
       "      <td>625.7100</td>\n",
       "      <td>420.02</td>\n",
       "      <td>-0.002744</td>\n",
       "      <td>-0.007755</td>\n",
       "      <td>0.000786</td>\n",
       "    </tr>\n",
       "    <tr>\n",
       "      <th>2021-06-01</th>\n",
       "      <td>46.330</td>\n",
       "      <td>624.0300</td>\n",
       "      <td>419.63</td>\n",
       "      <td>0.019811</td>\n",
       "      <td>-0.002685</td>\n",
       "      <td>-0.000929</td>\n",
       "    </tr>\n",
       "    <tr>\n",
       "      <th>2021-06-02</th>\n",
       "      <td>46.910</td>\n",
       "      <td>605.0001</td>\n",
       "      <td>420.38</td>\n",
       "      <td>0.012519</td>\n",
       "      <td>-0.030495</td>\n",
       "      <td>0.001787</td>\n",
       "    </tr>\n",
       "    <tr>\n",
       "      <th>...</th>\n",
       "      <td>...</td>\n",
       "      <td>...</td>\n",
       "      <td>...</td>\n",
       "      <td>...</td>\n",
       "      <td>...</td>\n",
       "      <td>...</td>\n",
       "    </tr>\n",
       "    <tr>\n",
       "      <th>2021-10-11</th>\n",
       "      <td>56.160</td>\n",
       "      <td>791.6700</td>\n",
       "      <td>434.67</td>\n",
       "      <td>0.012622</td>\n",
       "      <td>0.007835</td>\n",
       "      <td>-0.007195</td>\n",
       "    </tr>\n",
       "    <tr>\n",
       "      <th>2021-10-12</th>\n",
       "      <td>56.110</td>\n",
       "      <td>805.7300</td>\n",
       "      <td>433.63</td>\n",
       "      <td>-0.000890</td>\n",
       "      <td>0.017760</td>\n",
       "      <td>-0.002393</td>\n",
       "    </tr>\n",
       "    <tr>\n",
       "      <th>2021-10-13</th>\n",
       "      <td>56.170</td>\n",
       "      <td>811.2700</td>\n",
       "      <td>435.13</td>\n",
       "      <td>0.001069</td>\n",
       "      <td>0.006876</td>\n",
       "      <td>0.003459</td>\n",
       "    </tr>\n",
       "    <tr>\n",
       "      <th>2021-10-14</th>\n",
       "      <td>56.800</td>\n",
       "      <td>818.0100</td>\n",
       "      <td>442.47</td>\n",
       "      <td>0.011216</td>\n",
       "      <td>0.008308</td>\n",
       "      <td>0.016869</td>\n",
       "    </tr>\n",
       "    <tr>\n",
       "      <th>2021-10-15</th>\n",
       "      <td>57.160</td>\n",
       "      <td>843.0700</td>\n",
       "      <td>445.83</td>\n",
       "      <td>0.006338</td>\n",
       "      <td>0.030635</td>\n",
       "      <td>0.007594</td>\n",
       "    </tr>\n",
       "  </tbody>\n",
       "</table>\n",
       "<p>100 rows × 6 columns</p>\n",
       "</div>"
      ],
      "text/plain": [
       "               USO      TSLA     SPY  USO_pct_change  TSLA_pct_change  \\\n",
       "Date                                                                    \n",
       "2021-05-26  45.210  619.1900  419.04             NaN              NaN   \n",
       "2021-05-27  45.555  630.6000  419.69        0.007631         0.018427   \n",
       "2021-05-28  45.430  625.7100  420.02       -0.002744        -0.007755   \n",
       "2021-06-01  46.330  624.0300  419.63        0.019811        -0.002685   \n",
       "2021-06-02  46.910  605.0001  420.38        0.012519        -0.030495   \n",
       "...            ...       ...     ...             ...              ...   \n",
       "2021-10-11  56.160  791.6700  434.67        0.012622         0.007835   \n",
       "2021-10-12  56.110  805.7300  433.63       -0.000890         0.017760   \n",
       "2021-10-13  56.170  811.2700  435.13        0.001069         0.006876   \n",
       "2021-10-14  56.800  818.0100  442.47        0.011216         0.008308   \n",
       "2021-10-15  57.160  843.0700  445.83        0.006338         0.030635   \n",
       "\n",
       "            SPY_pct_change  \n",
       "Date                        \n",
       "2021-05-26             NaN  \n",
       "2021-05-27        0.001551  \n",
       "2021-05-28        0.000786  \n",
       "2021-06-01       -0.000929  \n",
       "2021-06-02        0.001787  \n",
       "...                    ...  \n",
       "2021-10-11       -0.007195  \n",
       "2021-10-12       -0.002393  \n",
       "2021-10-13        0.003459  \n",
       "2021-10-14        0.016869  \n",
       "2021-10-15        0.007594  \n",
       "\n",
       "[100 rows x 6 columns]"
      ]
     },
     "execution_count": 12,
     "metadata": {},
     "output_type": "execute_result"
    }
   ],
   "source": [
    "closing_prices_df['USO_pct_change']= closing_prices_df['USO'].pct_change()\n",
    "closing_prices_df['TSLA_pct_change']= closing_prices_df['TSLA'].pct_change()\n",
    "closing_prices_df['SPY_pct_change']= closing_prices_df['SPY'].pct_change()\n",
    "closing_prices_df.set_index('Date')\n"
   ]
  },
  {
   "cell_type": "code",
   "execution_count": 16,
   "id": "01ccbc4e",
   "metadata": {},
   "outputs": [],
   "source": [
    "closing_prices_df=closing_prices_df.iloc[1:][:]"
   ]
  },
  {
   "cell_type": "code",
   "execution_count": null,
   "id": "4bd0f6b1-c6da-4533-9f5d-76ec7e464d87",
   "metadata": {},
   "outputs": [],
   "source": []
  }
 ],
 "metadata": {
  "kernelspec": {
   "display_name": "Python 3",
   "language": "python",
   "name": "python3"
  },
  "language_info": {
   "codemirror_mode": {
    "name": "ipython",
    "version": 3
   },
   "file_extension": ".py",
   "mimetype": "text/x-python",
   "name": "python",
   "nbconvert_exporter": "python",
   "pygments_lexer": "ipython3",
   "version": "3.8.8"
  }
 },
 "nbformat": 4,
 "nbformat_minor": 5
}
