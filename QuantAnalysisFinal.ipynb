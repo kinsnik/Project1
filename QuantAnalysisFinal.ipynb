{
 "cells": [
  {
   "cell_type": "code",
   "execution_count": 195,
   "id": "3b6c46e9",
   "metadata": {},
   "outputs": [],
   "source": [
    "import pandas as pd \n",
    "import sqlalchemy as sql\n",
    "import alpaca_trade_api as tradeapi \n",
    "import os\n",
    "from dotenv import load_dotenv\n",
    "#import hvplot.pandas \n",
    "from pandas_datareader import data  #remember to pip install pandas-datareader\n",
    "import pandas_datareader as pdr \n",
    "import math \n",
    "import numpy as np\n",
    "\n",
    "%matplotlib inline "
   ]
  },
  {
   "cell_type": "code",
   "execution_count": 196,
   "id": "d5b506be-0375-4005-a1cb-a2479d1af7c3",
   "metadata": {},
   "outputs": [
    {
     "data": {
      "text/html": [
       "<div>\n",
       "<style scoped>\n",
       "    .dataframe tbody tr th:only-of-type {\n",
       "        vertical-align: middle;\n",
       "    }\n",
       "\n",
       "    .dataframe tbody tr th {\n",
       "        vertical-align: top;\n",
       "    }\n",
       "\n",
       "    .dataframe thead th {\n",
       "        text-align: right;\n",
       "    }\n",
       "</style>\n",
       "<table border=\"1\" class=\"dataframe\">\n",
       "  <thead>\n",
       "    <tr style=\"text-align: right;\">\n",
       "      <th>Symbols</th>\n",
       "      <th>USO</th>\n",
       "      <th>TSLA</th>\n",
       "      <th>SPY</th>\n",
       "    </tr>\n",
       "    <tr>\n",
       "      <th>Date</th>\n",
       "      <th></th>\n",
       "      <th></th>\n",
       "      <th></th>\n",
       "    </tr>\n",
       "  </thead>\n",
       "  <tbody>\n",
       "    <tr>\n",
       "      <th>2010-06-29</th>\n",
       "      <td>273.359985</td>\n",
       "      <td>4.778</td>\n",
       "      <td>104.209999</td>\n",
       "    </tr>\n",
       "    <tr>\n",
       "      <th>2010-06-30</th>\n",
       "      <td>271.679993</td>\n",
       "      <td>4.766</td>\n",
       "      <td>103.220001</td>\n",
       "    </tr>\n",
       "    <tr>\n",
       "      <th>2010-07-01</th>\n",
       "      <td>262.959991</td>\n",
       "      <td>4.392</td>\n",
       "      <td>102.760002</td>\n",
       "    </tr>\n",
       "    <tr>\n",
       "      <th>2010-07-02</th>\n",
       "      <td>260.799988</td>\n",
       "      <td>3.840</td>\n",
       "      <td>102.199997</td>\n",
       "    </tr>\n",
       "    <tr>\n",
       "      <th>2010-07-06</th>\n",
       "      <td>260.880005</td>\n",
       "      <td>3.222</td>\n",
       "      <td>102.870003</td>\n",
       "    </tr>\n",
       "  </tbody>\n",
       "</table>\n",
       "</div>"
      ],
      "text/plain": [
       "Symbols            USO   TSLA         SPY\n",
       "Date                                     \n",
       "2010-06-29  273.359985  4.778  104.209999\n",
       "2010-06-30  271.679993  4.766  103.220001\n",
       "2010-07-01  262.959991  4.392  102.760002\n",
       "2010-07-02  260.799988  3.840  102.199997\n",
       "2010-07-06  260.880005  3.222  102.870003"
      ]
     },
     "execution_count": 196,
     "metadata": {},
     "output_type": "execute_result"
    }
   ],
   "source": [
    "symbol='USO','TSLA', 'SPY'\n",
    "start='2010-06-29'\n",
    "end='2021-10-15'\n",
    "\n",
    "df=data.get_data_yahoo(symbol, start, end)['Close']\n",
    "df.head()"
   ]
  },
  {
   "cell_type": "code",
   "execution_count": 197,
   "id": "acdf7926-6105-4f33-b7fe-9efbc9e9296d",
   "metadata": {},
   "outputs": [
    {
     "data": {
      "text/html": [
       "<div>\n",
       "<style scoped>\n",
       "    .dataframe tbody tr th:only-of-type {\n",
       "        vertical-align: middle;\n",
       "    }\n",
       "\n",
       "    .dataframe tbody tr th {\n",
       "        vertical-align: top;\n",
       "    }\n",
       "\n",
       "    .dataframe thead th {\n",
       "        text-align: right;\n",
       "    }\n",
       "</style>\n",
       "<table border=\"1\" class=\"dataframe\">\n",
       "  <thead>\n",
       "    <tr style=\"text-align: right;\">\n",
       "      <th>Symbols</th>\n",
       "      <th>USO</th>\n",
       "      <th>TSLA</th>\n",
       "      <th>SPY</th>\n",
       "    </tr>\n",
       "    <tr>\n",
       "      <th>Date</th>\n",
       "      <th></th>\n",
       "      <th></th>\n",
       "      <th></th>\n",
       "    </tr>\n",
       "  </thead>\n",
       "  <tbody>\n",
       "    <tr>\n",
       "      <th>2021-10-11</th>\n",
       "      <td>56.180000</td>\n",
       "      <td>791.940002</td>\n",
       "      <td>434.690002</td>\n",
       "    </tr>\n",
       "    <tr>\n",
       "      <th>2021-10-12</th>\n",
       "      <td>56.110001</td>\n",
       "      <td>805.719971</td>\n",
       "      <td>433.619995</td>\n",
       "    </tr>\n",
       "    <tr>\n",
       "      <th>2021-10-13</th>\n",
       "      <td>56.160000</td>\n",
       "      <td>811.080017</td>\n",
       "      <td>435.179993</td>\n",
       "    </tr>\n",
       "    <tr>\n",
       "      <th>2021-10-14</th>\n",
       "      <td>56.810001</td>\n",
       "      <td>818.320007</td>\n",
       "      <td>442.500000</td>\n",
       "    </tr>\n",
       "    <tr>\n",
       "      <th>2021-10-15</th>\n",
       "      <td>57.150002</td>\n",
       "      <td>843.030029</td>\n",
       "      <td>445.869995</td>\n",
       "    </tr>\n",
       "  </tbody>\n",
       "</table>\n",
       "</div>"
      ],
      "text/plain": [
       "Symbols           USO        TSLA         SPY\n",
       "Date                                         \n",
       "2021-10-11  56.180000  791.940002  434.690002\n",
       "2021-10-12  56.110001  805.719971  433.619995\n",
       "2021-10-13  56.160000  811.080017  435.179993\n",
       "2021-10-14  56.810001  818.320007  442.500000\n",
       "2021-10-15  57.150002  843.030029  445.869995"
      ]
     },
     "execution_count": 197,
     "metadata": {},
     "output_type": "execute_result"
    }
   ],
   "source": [
    "df.tail()"
   ]
  },
  {
   "cell_type": "code",
   "execution_count": 98,
   "id": "869ad224-066b-40ac-a7f2-49fcb45006bc",
   "metadata": {},
   "outputs": [
    {
     "data": {
      "text/html": [
       "<div>\n",
       "<style scoped>\n",
       "    .dataframe tbody tr th:only-of-type {\n",
       "        vertical-align: middle;\n",
       "    }\n",
       "\n",
       "    .dataframe tbody tr th {\n",
       "        vertical-align: top;\n",
       "    }\n",
       "\n",
       "    .dataframe thead th {\n",
       "        text-align: right;\n",
       "    }\n",
       "</style>\n",
       "<table border=\"1\" class=\"dataframe\">\n",
       "  <thead>\n",
       "    <tr style=\"text-align: right;\">\n",
       "      <th>Symbols</th>\n",
       "      <th>USO</th>\n",
       "      <th>TSLA</th>\n",
       "      <th>SPY</th>\n",
       "      <th>USO_pct_change</th>\n",
       "      <th>TSLA_pct_change</th>\n",
       "      <th>SPY_pct_change</th>\n",
       "    </tr>\n",
       "  </thead>\n",
       "  <tbody>\n",
       "    <tr>\n",
       "      <th>count</th>\n",
       "      <td>2846.000000</td>\n",
       "      <td>2846.000000</td>\n",
       "      <td>2846.000000</td>\n",
       "      <td>2845.000000</td>\n",
       "      <td>2845.000000</td>\n",
       "      <td>2845.000000</td>\n",
       "    </tr>\n",
       "    <tr>\n",
       "      <th>mean</th>\n",
       "      <td>164.771809</td>\n",
       "      <td>106.112510</td>\n",
       "      <td>226.313131</td>\n",
       "      <td>-0.000287</td>\n",
       "      <td>0.002437</td>\n",
       "      <td>0.000568</td>\n",
       "    </tr>\n",
       "    <tr>\n",
       "      <th>std</th>\n",
       "      <td>102.387174</td>\n",
       "      <td>189.260934</td>\n",
       "      <td>82.173761</td>\n",
       "      <td>0.022700</td>\n",
       "      <td>0.035274</td>\n",
       "      <td>0.010644</td>\n",
       "    </tr>\n",
       "    <tr>\n",
       "      <th>min</th>\n",
       "      <td>17.040001</td>\n",
       "      <td>3.160000</td>\n",
       "      <td>102.199997</td>\n",
       "      <td>-0.253150</td>\n",
       "      <td>-0.210628</td>\n",
       "      <td>-0.109424</td>\n",
       "    </tr>\n",
       "    <tr>\n",
       "      <th>25%</th>\n",
       "      <td>85.120003</td>\n",
       "      <td>10.464000</td>\n",
       "      <td>158.595005</td>\n",
       "      <td>-0.010686</td>\n",
       "      <td>-0.014816</td>\n",
       "      <td>-0.003469</td>\n",
       "    </tr>\n",
       "    <tr>\n",
       "      <th>50%</th>\n",
       "      <td>112.760002</td>\n",
       "      <td>45.909000</td>\n",
       "      <td>209.770004</td>\n",
       "      <td>0.000690</td>\n",
       "      <td>0.001255</td>\n",
       "      <td>0.000649</td>\n",
       "    </tr>\n",
       "    <tr>\n",
       "      <th>75%</th>\n",
       "      <td>276.460007</td>\n",
       "      <td>65.295502</td>\n",
       "      <td>279.069992</td>\n",
       "      <td>0.011073</td>\n",
       "      <td>0.019081</td>\n",
       "      <td>0.005452</td>\n",
       "    </tr>\n",
       "    <tr>\n",
       "      <th>max</th>\n",
       "      <td>361.200012</td>\n",
       "      <td>883.090027</td>\n",
       "      <td>453.190002</td>\n",
       "      <td>0.166667</td>\n",
       "      <td>0.243951</td>\n",
       "      <td>0.090603</td>\n",
       "    </tr>\n",
       "  </tbody>\n",
       "</table>\n",
       "</div>"
      ],
      "text/plain": [
       "Symbols          USO         TSLA          SPY  USO_pct_change  \\\n",
       "count    2846.000000  2846.000000  2846.000000     2845.000000   \n",
       "mean      164.771809   106.112510   226.313131       -0.000287   \n",
       "std       102.387174   189.260934    82.173761        0.022700   \n",
       "min        17.040001     3.160000   102.199997       -0.253150   \n",
       "25%        85.120003    10.464000   158.595005       -0.010686   \n",
       "50%       112.760002    45.909000   209.770004        0.000690   \n",
       "75%       276.460007    65.295502   279.069992        0.011073   \n",
       "max       361.200012   883.090027   453.190002        0.166667   \n",
       "\n",
       "Symbols  TSLA_pct_change  SPY_pct_change  \n",
       "count        2845.000000     2845.000000  \n",
       "mean            0.002437        0.000568  \n",
       "std             0.035274        0.010644  \n",
       "min            -0.210628       -0.109424  \n",
       "25%            -0.014816       -0.003469  \n",
       "50%             0.001255        0.000649  \n",
       "75%             0.019081        0.005452  \n",
       "max             0.243951        0.090603  "
      ]
     },
     "execution_count": 98,
     "metadata": {},
     "output_type": "execute_result"
    }
   ],
   "source": [
    "df['USO_pct_change']= df['USO'].pct_change()\n",
    "df['TSLA_pct_change']= df['TSLA'].pct_change()\n",
    "df['SPY_pct_change']= df['SPY'].pct_change()\n",
    "\n",
    "\n",
    "df.describe()\n"
   ]
  },
  {
   "cell_type": "code",
   "execution_count": 99,
   "id": "c2db3aa7",
   "metadata": {},
   "outputs": [
    {
     "data": {
      "text/plain": [
       "Engine(sqlite:///)"
      ]
     },
     "execution_count": 99,
     "metadata": {},
     "output_type": "execute_result"
    }
   ],
   "source": [
    "# Working with SQL in order to not ping the Alpaca API too much  \n",
    "#Creating SQL connection/engine\n",
    "\n",
    "database_connection_string = 'sqlite:///'\n",
    "engine = sql.create_engine(database_connection_string)\n",
    "engine"
   ]
  },
  {
   "cell_type": "code",
   "execution_count": 100,
   "id": "d3deb4c6",
   "metadata": {},
   "outputs": [],
   "source": [
    "#shoving closing_prices_df from Alpaca into a SQL Table \n",
    "\n",
    "df.to_sql('closing_prices', engine, index= True, if_exists='replace' )\n"
   ]
  },
  {
   "cell_type": "code",
   "execution_count": 101,
   "id": "7dbf5bb7",
   "metadata": {},
   "outputs": [],
   "source": [
    "#Code to grab the data from the SQL table into a pandas df to analyze further \n",
    "\n",
    "closing_prices_df = pd.read_sql_table ('closing_prices', con=engine)\n"
   ]
  },
  {
   "cell_type": "code",
   "execution_count": 102,
   "id": "01ccbc4e",
   "metadata": {},
   "outputs": [
    {
     "data": {
      "text/html": [
       "<div>\n",
       "<style scoped>\n",
       "    .dataframe tbody tr th:only-of-type {\n",
       "        vertical-align: middle;\n",
       "    }\n",
       "\n",
       "    .dataframe tbody tr th {\n",
       "        vertical-align: top;\n",
       "    }\n",
       "\n",
       "    .dataframe thead th {\n",
       "        text-align: right;\n",
       "    }\n",
       "</style>\n",
       "<table border=\"1\" class=\"dataframe\">\n",
       "  <thead>\n",
       "    <tr style=\"text-align: right;\">\n",
       "      <th></th>\n",
       "      <th>USO</th>\n",
       "      <th>TSLA</th>\n",
       "      <th>SPY</th>\n",
       "      <th>USO_pct_change</th>\n",
       "      <th>TSLA_pct_change</th>\n",
       "      <th>SPY_pct_change</th>\n",
       "    </tr>\n",
       "  </thead>\n",
       "  <tbody>\n",
       "    <tr>\n",
       "      <th>count</th>\n",
       "      <td>2846.000000</td>\n",
       "      <td>2846.000000</td>\n",
       "      <td>2846.000000</td>\n",
       "      <td>2845.000000</td>\n",
       "      <td>2845.000000</td>\n",
       "      <td>2845.000000</td>\n",
       "    </tr>\n",
       "    <tr>\n",
       "      <th>mean</th>\n",
       "      <td>164.771809</td>\n",
       "      <td>106.112510</td>\n",
       "      <td>226.313131</td>\n",
       "      <td>-0.000287</td>\n",
       "      <td>0.002437</td>\n",
       "      <td>0.000568</td>\n",
       "    </tr>\n",
       "    <tr>\n",
       "      <th>std</th>\n",
       "      <td>102.387174</td>\n",
       "      <td>189.260934</td>\n",
       "      <td>82.173761</td>\n",
       "      <td>0.022700</td>\n",
       "      <td>0.035274</td>\n",
       "      <td>0.010644</td>\n",
       "    </tr>\n",
       "    <tr>\n",
       "      <th>min</th>\n",
       "      <td>17.040001</td>\n",
       "      <td>3.160000</td>\n",
       "      <td>102.199997</td>\n",
       "      <td>-0.253150</td>\n",
       "      <td>-0.210628</td>\n",
       "      <td>-0.109424</td>\n",
       "    </tr>\n",
       "    <tr>\n",
       "      <th>25%</th>\n",
       "      <td>85.120003</td>\n",
       "      <td>10.464000</td>\n",
       "      <td>158.595005</td>\n",
       "      <td>-0.010686</td>\n",
       "      <td>-0.014816</td>\n",
       "      <td>-0.003469</td>\n",
       "    </tr>\n",
       "    <tr>\n",
       "      <th>50%</th>\n",
       "      <td>112.760002</td>\n",
       "      <td>45.909000</td>\n",
       "      <td>209.770004</td>\n",
       "      <td>0.000690</td>\n",
       "      <td>0.001255</td>\n",
       "      <td>0.000649</td>\n",
       "    </tr>\n",
       "    <tr>\n",
       "      <th>75%</th>\n",
       "      <td>276.460007</td>\n",
       "      <td>65.295502</td>\n",
       "      <td>279.069992</td>\n",
       "      <td>0.011073</td>\n",
       "      <td>0.019081</td>\n",
       "      <td>0.005452</td>\n",
       "    </tr>\n",
       "    <tr>\n",
       "      <th>max</th>\n",
       "      <td>361.200012</td>\n",
       "      <td>883.090027</td>\n",
       "      <td>453.190002</td>\n",
       "      <td>0.166667</td>\n",
       "      <td>0.243951</td>\n",
       "      <td>0.090603</td>\n",
       "    </tr>\n",
       "  </tbody>\n",
       "</table>\n",
       "</div>"
      ],
      "text/plain": [
       "               USO         TSLA          SPY  USO_pct_change  TSLA_pct_change  \\\n",
       "count  2846.000000  2846.000000  2846.000000     2845.000000      2845.000000   \n",
       "mean    164.771809   106.112510   226.313131       -0.000287         0.002437   \n",
       "std     102.387174   189.260934    82.173761        0.022700         0.035274   \n",
       "min      17.040001     3.160000   102.199997       -0.253150        -0.210628   \n",
       "25%      85.120003    10.464000   158.595005       -0.010686        -0.014816   \n",
       "50%     112.760002    45.909000   209.770004        0.000690         0.001255   \n",
       "75%     276.460007    65.295502   279.069992        0.011073         0.019081   \n",
       "max     361.200012   883.090027   453.190002        0.166667         0.243951   \n",
       "\n",
       "       SPY_pct_change  \n",
       "count     2845.000000  \n",
       "mean         0.000568  \n",
       "std          0.010644  \n",
       "min         -0.109424  \n",
       "25%         -0.003469  \n",
       "50%          0.000649  \n",
       "75%          0.005452  \n",
       "max          0.090603  "
      ]
     },
     "execution_count": 102,
     "metadata": {},
     "output_type": "execute_result"
    }
   ],
   "source": [
    "closing_prices_df.describe()"
   ]
  },
  {
   "cell_type": "code",
   "execution_count": 103,
   "id": "5e23a3f1-7ae7-4bb5-84ed-b9e06ff0361a",
   "metadata": {},
   "outputs": [
    {
     "data": {
      "text/html": [
       "<div>\n",
       "<style scoped>\n",
       "    .dataframe tbody tr th:only-of-type {\n",
       "        vertical-align: middle;\n",
       "    }\n",
       "\n",
       "    .dataframe tbody tr th {\n",
       "        vertical-align: top;\n",
       "    }\n",
       "\n",
       "    .dataframe thead th {\n",
       "        text-align: right;\n",
       "    }\n",
       "</style>\n",
       "<table border=\"1\" class=\"dataframe\">\n",
       "  <thead>\n",
       "    <tr style=\"text-align: right;\">\n",
       "      <th></th>\n",
       "      <th>Date</th>\n",
       "      <th>USO</th>\n",
       "      <th>TSLA</th>\n",
       "      <th>SPY</th>\n",
       "      <th>USO_pct_change</th>\n",
       "      <th>TSLA_pct_change</th>\n",
       "      <th>SPY_pct_change</th>\n",
       "    </tr>\n",
       "  </thead>\n",
       "  <tbody>\n",
       "    <tr>\n",
       "      <th>0</th>\n",
       "      <td>2010-06-29</td>\n",
       "      <td>273.359985</td>\n",
       "      <td>4.778</td>\n",
       "      <td>104.209999</td>\n",
       "      <td>NaN</td>\n",
       "      <td>NaN</td>\n",
       "      <td>NaN</td>\n",
       "    </tr>\n",
       "    <tr>\n",
       "      <th>1</th>\n",
       "      <td>2010-06-30</td>\n",
       "      <td>271.679993</td>\n",
       "      <td>4.766</td>\n",
       "      <td>103.220001</td>\n",
       "      <td>-0.006146</td>\n",
       "      <td>-0.002512</td>\n",
       "      <td>-0.009500</td>\n",
       "    </tr>\n",
       "    <tr>\n",
       "      <th>2</th>\n",
       "      <td>2010-07-01</td>\n",
       "      <td>262.959991</td>\n",
       "      <td>4.392</td>\n",
       "      <td>102.760002</td>\n",
       "      <td>-0.032097</td>\n",
       "      <td>-0.078472</td>\n",
       "      <td>-0.004456</td>\n",
       "    </tr>\n",
       "    <tr>\n",
       "      <th>3</th>\n",
       "      <td>2010-07-02</td>\n",
       "      <td>260.799988</td>\n",
       "      <td>3.840</td>\n",
       "      <td>102.199997</td>\n",
       "      <td>-0.008214</td>\n",
       "      <td>-0.125683</td>\n",
       "      <td>-0.005450</td>\n",
       "    </tr>\n",
       "    <tr>\n",
       "      <th>4</th>\n",
       "      <td>2010-07-06</td>\n",
       "      <td>260.880005</td>\n",
       "      <td>3.222</td>\n",
       "      <td>102.870003</td>\n",
       "      <td>0.000307</td>\n",
       "      <td>-0.160938</td>\n",
       "      <td>0.006556</td>\n",
       "    </tr>\n",
       "  </tbody>\n",
       "</table>\n",
       "</div>"
      ],
      "text/plain": [
       "        Date         USO   TSLA         SPY  USO_pct_change  TSLA_pct_change  \\\n",
       "0 2010-06-29  273.359985  4.778  104.209999             NaN              NaN   \n",
       "1 2010-06-30  271.679993  4.766  103.220001       -0.006146        -0.002512   \n",
       "2 2010-07-01  262.959991  4.392  102.760002       -0.032097        -0.078472   \n",
       "3 2010-07-02  260.799988  3.840  102.199997       -0.008214        -0.125683   \n",
       "4 2010-07-06  260.880005  3.222  102.870003        0.000307        -0.160938   \n",
       "\n",
       "   SPY_pct_change  \n",
       "0             NaN  \n",
       "1       -0.009500  \n",
       "2       -0.004456  \n",
       "3       -0.005450  \n",
       "4        0.006556  "
      ]
     },
     "execution_count": 103,
     "metadata": {},
     "output_type": "execute_result"
    }
   ],
   "source": [
    "closing_prices_df.head()"
   ]
  },
  {
   "cell_type": "code",
   "execution_count": 104,
   "id": "feb53d26-1976-400f-bf53-35f33f6b7a7c",
   "metadata": {},
   "outputs": [
    {
     "data": {
      "image/png": "[encoded data removed]",
      "text/plain": [
       "<Figure size 1080x504 with 1 Axes>"
      ]
     },
     "metadata": {
      "needs_background": "light"
     },
     "output_type": "display_data"
    }
   ],
   "source": [
    "#This is an overlay plot of the closing prices of the three tickers for the whole dataset\n",
    "closing_prices_df = closing_prices_df.set_index(\"Date\")\n",
    "\n",
    "closing_prices_df['USO'].plot(legend=True, figsize=(15, 7), title=\"Oil Prices vs. Tesla and the Market\", color=\"blue\", label=\"Oil\", xlabel=\"Date\", ylabel =\"Closing Price\")\n",
    "closing_prices_df['TSLA'].plot(legend=True, figsize=(15, 7), color=\"orange\", label=\"Tesla\")\n",
    "closing_prices_df['SPY'].plot(legend=True, figsize=(15, 7), color=\"green\", label=\"Market\");"
   ]
  },
  {
   "cell_type": "markdown",
   "id": "61d9b590-5e6e-4eed-8a6f-9de99a03343f",
   "metadata": {},
   "source": [
    "**Overlay Plot**"
   ]
  },
  {
   "cell_type": "code",
   "execution_count": 171,
   "id": "03eb05df-2443-4a64-81d1-2d28f62b26b3",
   "metadata": {},
   "outputs": [
    {
     "data": {
      "image/png": "[encoded data removed]",
      "text/plain": [
       "<Figure size 1080x720 with 1 Axes>"
      ]
     },
     "metadata": {
      "needs_background": "light"
     },
     "output_type": "display_data"
    }
   ],
   "source": [
    "#This will show an overlay plot for the three different tickers on the time period chosen\n",
    "#This is an interesting time frame as it showed a rapid growth in TSLA.\n",
    "closing_prices_df['USO'].loc['2020-08-21' : '2021-08-21'].plot(\n",
    "    legend=True, figsize=(15, 10), title= \"Prices during the Pandemic\", color=\"blue\", label=\"USO\")\n",
    "closing_prices_df['TSLA'].loc['2020-08-21' : '2021-08-21'].plot(\n",
    "    legend=True, figsize=(15, 10), color= \"orange\", label=\"TSLA\")\n",
    "closing_prices_df['SPY'].loc['2020-08-21' : '2021-08-21'].plot(\n",
    "    legend=True, figsize=(15, 10), color=\"green\", label=\"SPY\");"
   ]
  },
  {
   "cell_type": "code",
   "execution_count": 115,
   "id": "b8216a5e-1de1-48c4-90c6-6f18f191ee47",
   "metadata": {},
   "outputs": [],
   "source": [
    "#The avg_profit_sum_per_day, $525.86 is a rough estimate of the potential to make per day in \n",
    "#Q1 of 2021. "
   ]
  },
  {
   "cell_type": "markdown",
   "id": "308c1c07-08a8-4a9b-8a70-6a2ab8122c7f",
   "metadata": {},
   "source": [
    "**Daily & Cumulative Returns**"
   ]
  },
  {
   "cell_type": "code",
   "execution_count": null,
   "id": "e41f9b63-d933-4bf3-a322-25682643dd4c",
   "metadata": {},
   "outputs": [],
   "source": [
    "Daily & Cumulative Returns"
   ]
  },
  {
   "cell_type": "code",
   "execution_count": 183,
   "id": "3a188982-bbb4-41d7-b840-8878c9fdb2eb",
   "metadata": {},
   "outputs": [
    {
     "data": {
      "text/plain": [
       "count    2845.000000\n",
       "mean        0.002437\n",
       "std         0.035274\n",
       "min        -0.210628\n",
       "25%        -0.014816\n",
       "50%         0.001255\n",
       "75%         0.019081\n",
       "max         0.243951\n",
       "Name: TSLA, dtype: float64"
      ]
     },
     "execution_count": 183,
     "metadata": {},
     "output_type": "execute_result"
    }
   ],
   "source": [
    "# Calculate the daily return for TSLA using the 'pct_change()' function\n",
    "daily_returns_TSLA = closing_prices_df[\"TSLA\"].pct_change()\n",
    "\n",
    "# Review the daily_returns TSLA DataFrame using pctchange function\n",
    "daily_returns_TSLA.describe()"
   ]
  },
  {
   "cell_type": "code",
   "execution_count": 184,
   "id": "1c870f78-9e1a-4e5f-a623-5ab9d309cddd",
   "metadata": {},
   "outputs": [
    {
     "data": {
      "text/plain": [
       "count    252.000000\n",
       "mean       0.002946\n",
       "std        0.041026\n",
       "min       -0.210628\n",
       "25%       -0.020288\n",
       "50%        0.001733\n",
       "75%        0.024151\n",
       "max        0.196412\n",
       "Name: TSLA, dtype: float64"
      ]
     },
     "execution_count": 184,
     "metadata": {},
     "output_type": "execute_result"
    }
   ],
   "source": [
    "# Calculating daily return for a 1 year period\n",
    "daily_returns_1_year_TSLA = daily_returns_TSLA.loc[\"2020-08-21\":\"2021-08-21\"]\n",
    "\n",
    "# Display 1 year return statistics\n",
    "daily_returns_1_year_TSLA.describe()"
   ]
  },
  {
   "cell_type": "code",
   "execution_count": 185,
   "id": "a341b081-376c-45ce-8ad4-252f8353fffc",
   "metadata": {},
   "outputs": [
    {
     "data": {
      "text/plain": [
       "count    1259.000000\n",
       "mean        0.002852\n",
       "std         0.037336\n",
       "min        -0.210628\n",
       "25%        -0.015237\n",
       "50%         0.001267\n",
       "75%         0.019401\n",
       "max         0.198949\n",
       "Name: TSLA, dtype: float64"
      ]
     },
     "execution_count": 185,
     "metadata": {},
     "output_type": "execute_result"
    }
   ],
   "source": [
    "# Calculating daily return for a 5 year period\n",
    "daily_returns_5_year_TSLA = daily_returns_TSLA.loc[\"2016-08-21\":\"2021-08-21\"]\n",
    "\n",
    "# Display 5 year return statistics\n",
    "daily_returns_5_year_TSLA.describe()"
   ]
  },
  {
   "cell_type": "code",
   "execution_count": 186,
   "id": "35954486-578d-48f8-a2ca-dd1d529dfad0",
   "metadata": {},
   "outputs": [
    {
     "data": {
      "text/plain": [
       "Date\n",
       "2010-06-29         NaN\n",
       "2010-06-30    0.997488\n",
       "2010-07-01    0.919213\n",
       "2010-07-02    0.803684\n",
       "2010-07-06    0.674341\n",
       "Name: TSLA, dtype: float64"
      ]
     },
     "execution_count": 186,
     "metadata": {},
     "output_type": "execute_result"
    }
   ],
   "source": [
    "# Calculate the cumulative returns using the 'cumprod()' function\n",
    "cumulative_returns_TSLA = (1 + daily_returns_TSLA).cumprod()\n",
    "cumulative_returns_TSLA.head()"
   ]
  },
  {
   "cell_type": "code",
   "execution_count": 120,
   "id": "90b97183-58d4-42bb-a1e2-29393ec666a0",
   "metadata": {},
   "outputs": [
    {
     "data": {
      "text/plain": [
       "Date\n",
       "2016-08-22    0.990800\n",
       "2016-08-23    0.999289\n",
       "2016-08-24    0.989422\n",
       "2016-08-25    0.982044\n",
       "2016-08-26    0.977733\n",
       "Name: TSLA, dtype: float64"
      ]
     },
     "execution_count": 120,
     "metadata": {},
     "output_type": "execute_result"
    }
   ],
   "source": [
    "cumulative_returns_5_year_TSLA = (1 + daily_returns_5_year_TSLA).cumprod()\n",
    "cumulative_returns_5_year_TSLA.head()"
   ]
  },
  {
   "cell_type": "code",
   "execution_count": 187,
   "id": "21ac9a12-2ec7-499a-8f91-7b02920186d2",
   "metadata": {},
   "outputs": [
    {
     "data": {
      "text/plain": [
       "Date\n",
       "2020-08-21    1.024053\n",
       "2020-08-24    1.006179\n",
       "2020-08-25    1.010745\n",
       "2020-08-26    1.075601\n",
       "2020-08-27    1.118352\n",
       "Name: TSLA, dtype: float64"
      ]
     },
     "execution_count": 187,
     "metadata": {},
     "output_type": "execute_result"
    }
   ],
   "source": [
    "cumulative_returns_1_year_TSLA = (1 + daily_returns_1_year_TSLA).cumprod()\n",
    "cumulative_returns_1_year_TSLA.head()"
   ]
  },
  {
   "cell_type": "code",
   "execution_count": 188,
   "id": "308a7733-555e-4894-a40b-f4d750d69e77",
   "metadata": {},
   "outputs": [
    {
     "data": {
      "image/png": "[encoded data removed]",
      "text/plain": [
       "<Figure size 720x360 with 1 Axes>"
      ]
     },
     "metadata": {
      "needs_background": "light"
     },
     "output_type": "display_data"
    }
   ],
   "source": [
    "#Graph cumulative returns for TSLA across full data period, 5 years and 1 year\n",
    "ax = cumulative_returns_TSLA.plot(\n",
    "    legend=\"True\",\n",
    "    figsize=(10,5),\n",
    "    title=\"TSLA Cumulative Returns 1, 5, & 11 years\")\n",
    "cumulative_returns_5_year_TSLA.plot(ax=ax)\n",
    "cumulative_returns_1_year_TSLA.plot(ax=ax)\n",
    "\n",
    "ax.legend([\"Full Data Period\", \"5 Years\", \"1 Year\"]);"
   ]
  },
  {
   "cell_type": "code",
   "execution_count": 189,
   "id": "9d37312c-8c72-4d85-a7d8-9fa91c6ffc2b",
   "metadata": {},
   "outputs": [
    {
     "data": {
      "text/plain": [
       "Date\n",
       "2010-06-29         NaN\n",
       "2010-06-30   -0.006146\n",
       "2010-07-01   -0.032097\n",
       "2010-07-02   -0.008214\n",
       "2010-07-06    0.000307\n",
       "Name: USO, dtype: float64"
      ]
     },
     "execution_count": 189,
     "metadata": {},
     "output_type": "execute_result"
    }
   ],
   "source": [
    "# Calculate the daily return for USO using the 'pct_change()' function\n",
    "daily_returns_USO = closing_prices_df[\"USO\"].pct_change()\n",
    "\n",
    "# Review the daily_returns USO DataFrame using pctchange function\n",
    "daily_returns_USO.head()"
   ]
  },
  {
   "cell_type": "code",
   "execution_count": 46,
   "id": "b777cd15-2a08-4564-a164-149672fb255a",
   "metadata": {},
   "outputs": [
    {
     "data": {
      "text/plain": [
       "count    252.000000\n",
       "mean       0.001613\n",
       "std        0.020589\n",
       "min       -0.076449\n",
       "25%       -0.009731\n",
       "50%        0.002923\n",
       "75%        0.014597\n",
       "max        0.060446\n",
       "Name: USO, dtype: float64"
      ]
     },
     "execution_count": 46,
     "metadata": {},
     "output_type": "execute_result"
    }
   ],
   "source": [
    "# Calculating daily return for a 1 year period\n",
    "daily_returns_1_year_USO = daily_returns_USO.loc[\"2020-08-21\":\"2021-08-21\"]\n",
    "\n",
    "# Display 1 year return statistics\n",
    "daily_returns_1_year_USO.describe()"
   ]
  },
  {
   "cell_type": "code",
   "execution_count": 47,
   "id": "7fc5858e-8d42-46fa-bb78-5d94d9ad206d",
   "metadata": {},
   "outputs": [
    {
     "data": {
      "text/plain": [
       "count    1259.000000\n",
       "mean       -0.000234\n",
       "std         0.026032\n",
       "min        -0.253150\n",
       "25%        -0.010710\n",
       "50%         0.001391\n",
       "75%         0.012021\n",
       "max         0.166667\n",
       "Name: USO, dtype: float64"
      ]
     },
     "execution_count": 47,
     "metadata": {},
     "output_type": "execute_result"
    }
   ],
   "source": [
    "# Calculating daily return for a 5 year period\n",
    "daily_returns_5_year_USO = daily_returns_USO.loc[\"2016-08-21\":\"2021-08-21\"]\n",
    "\n",
    "# Display 5 year return statistics\n",
    "daily_returns_5_year_USO.describe()"
   ]
  },
  {
   "cell_type": "code",
   "execution_count": 48,
   "id": "06bd9829-a046-45db-9323-472b82078c42",
   "metadata": {},
   "outputs": [
    {
     "data": {
      "text/plain": [
       "Date\n",
       "2010-06-29         NaN\n",
       "2010-06-30    0.993854\n",
       "2010-07-01    0.961955\n",
       "2010-07-02    0.954053\n",
       "2010-07-06    0.954346\n",
       "Name: USO, dtype: float64"
      ]
     },
     "execution_count": 48,
     "metadata": {},
     "output_type": "execute_result"
    }
   ],
   "source": [
    "cumulative_returns_USO = (1 + daily_returns_USO).cumprod()\n",
    "cumulative_returns_USO.head()"
   ]
  },
  {
   "cell_type": "code",
   "execution_count": 49,
   "id": "30006a87-4941-494c-9ad2-47f3e9bcd2e9",
   "metadata": {},
   "outputs": [
    {
     "data": {
      "text/plain": [
       "Date\n",
       "2016-08-22    0.967372\n",
       "2016-08-23    0.977954\n",
       "2016-08-24    0.954145\n",
       "2016-08-25    0.965608\n",
       "2016-08-26    0.965608\n",
       "Name: USO, dtype: float64"
      ]
     },
     "execution_count": 49,
     "metadata": {},
     "output_type": "execute_result"
    }
   ],
   "source": [
    "cumulative_returns_5_year_USO = (1 + daily_returns_5_year_USO).cumprod()\n",
    "cumulative_returns_5_year_USO.head()"
   ]
  },
  {
   "cell_type": "code",
   "execution_count": 50,
   "id": "7c75028c-fca6-4543-9152-c7ca8e666757",
   "metadata": {},
   "outputs": [
    {
     "data": {
      "text/plain": [
       "Date\n",
       "2020-08-21    0.988860\n",
       "2020-08-24    0.994430\n",
       "2020-08-25    1.013106\n",
       "2020-08-26    1.013434\n",
       "2020-08-27    1.004915\n",
       "Name: USO, dtype: float64"
      ]
     },
     "execution_count": 50,
     "metadata": {},
     "output_type": "execute_result"
    }
   ],
   "source": [
    "cumulative_returns_1_year_USO = (1 + daily_returns_1_year_USO).cumprod()\n",
    "cumulative_returns_1_year_USO.head()"
   ]
  },
  {
   "cell_type": "code",
   "execution_count": 51,
   "id": "1c6dbe5c-b739-4894-a883-ef215413b420",
   "metadata": {},
   "outputs": [
    {
     "data": {
      "image/png": "[encoded data removed]",
      "text/plain": [
       "<Figure size 720x360 with 1 Axes>"
      ]
     },
     "metadata": {
      "needs_background": "light"
     },
     "output_type": "display_data"
    }
   ],
   "source": [
    "#Graph cumulative returns for USO across full data period, 5 years and 1 year\n",
    "ax = cumulative_returns_USO.plot(\n",
    "    legend=\"True\",\n",
    "    figsize=(10,5),\n",
    "    title=\"USO Cumulative Returns 1, 5, & 11 years\")\n",
    "cumulative_returns_5_year_USO.plot(ax=ax)\n",
    "cumulative_returns_1_year_USO.plot(ax=ax)\n",
    "\n",
    "ax.legend([\"Full Data Period\", \"5 Years\", \"1 Year\"]);"
   ]
  },
  {
   "cell_type": "markdown",
   "id": "201ce008-4ddf-4bd6-b2cb-8aaa0f6ee0c9",
   "metadata": {},
   "source": [
    "**Calculating Standard Deviation and Daily Returns for Volatility**"
   ]
  },
  {
   "cell_type": "code",
   "execution_count": 121,
   "id": "0a9dddee-a974-42db-a025-6a2a638abc36",
   "metadata": {},
   "outputs": [
    {
     "data": {
      "text/html": [
       "<div>\n",
       "<style scoped>\n",
       "    .dataframe tbody tr th:only-of-type {\n",
       "        vertical-align: middle;\n",
       "    }\n",
       "\n",
       "    .dataframe tbody tr th {\n",
       "        vertical-align: top;\n",
       "    }\n",
       "\n",
       "    .dataframe thead th {\n",
       "        text-align: right;\n",
       "    }\n",
       "</style>\n",
       "<table border=\"1\" class=\"dataframe\">\n",
       "  <thead>\n",
       "    <tr style=\"text-align: right;\">\n",
       "      <th></th>\n",
       "      <th>USO</th>\n",
       "      <th>TSLA</th>\n",
       "      <th>SPY</th>\n",
       "      <th>USO_pct_change</th>\n",
       "      <th>TSLA_pct_change</th>\n",
       "      <th>SPY_pct_change</th>\n",
       "    </tr>\n",
       "    <tr>\n",
       "      <th>Date</th>\n",
       "      <th></th>\n",
       "      <th></th>\n",
       "      <th></th>\n",
       "      <th></th>\n",
       "      <th></th>\n",
       "      <th></th>\n",
       "    </tr>\n",
       "  </thead>\n",
       "  <tbody>\n",
       "    <tr>\n",
       "      <th>2010-06-29</th>\n",
       "      <td>273.359985</td>\n",
       "      <td>4.778</td>\n",
       "      <td>104.209999</td>\n",
       "      <td>NaN</td>\n",
       "      <td>NaN</td>\n",
       "      <td>NaN</td>\n",
       "    </tr>\n",
       "    <tr>\n",
       "      <th>2010-06-30</th>\n",
       "      <td>271.679993</td>\n",
       "      <td>4.766</td>\n",
       "      <td>103.220001</td>\n",
       "      <td>-0.006146</td>\n",
       "      <td>-0.002512</td>\n",
       "      <td>-0.009500</td>\n",
       "    </tr>\n",
       "    <tr>\n",
       "      <th>2010-07-01</th>\n",
       "      <td>262.959991</td>\n",
       "      <td>4.392</td>\n",
       "      <td>102.760002</td>\n",
       "      <td>-0.032097</td>\n",
       "      <td>-0.078472</td>\n",
       "      <td>-0.004456</td>\n",
       "    </tr>\n",
       "    <tr>\n",
       "      <th>2010-07-02</th>\n",
       "      <td>260.799988</td>\n",
       "      <td>3.840</td>\n",
       "      <td>102.199997</td>\n",
       "      <td>-0.008214</td>\n",
       "      <td>-0.125683</td>\n",
       "      <td>-0.005450</td>\n",
       "    </tr>\n",
       "    <tr>\n",
       "      <th>2010-07-06</th>\n",
       "      <td>260.880005</td>\n",
       "      <td>3.222</td>\n",
       "      <td>102.870003</td>\n",
       "      <td>0.000307</td>\n",
       "      <td>-0.160938</td>\n",
       "      <td>0.006556</td>\n",
       "    </tr>\n",
       "  </tbody>\n",
       "</table>\n",
       "</div>"
      ],
      "text/plain": [
       "                   USO   TSLA         SPY  USO_pct_change  TSLA_pct_change  \\\n",
       "Date                                                                         \n",
       "2010-06-29  273.359985  4.778  104.209999             NaN              NaN   \n",
       "2010-06-30  271.679993  4.766  103.220001       -0.006146        -0.002512   \n",
       "2010-07-01  262.959991  4.392  102.760002       -0.032097        -0.078472   \n",
       "2010-07-02  260.799988  3.840  102.199997       -0.008214        -0.125683   \n",
       "2010-07-06  260.880005  3.222  102.870003        0.000307        -0.160938   \n",
       "\n",
       "            SPY_pct_change  \n",
       "Date                        \n",
       "2010-06-29             NaN  \n",
       "2010-06-30       -0.009500  \n",
       "2010-07-01       -0.004456  \n",
       "2010-07-02       -0.005450  \n",
       "2010-07-06        0.006556  "
      ]
     },
     "execution_count": 121,
     "metadata": {},
     "output_type": "execute_result"
    }
   ],
   "source": [
    "closing_prices_df.head()"
   ]
  },
  {
   "cell_type": "code",
   "execution_count": 194,
   "id": "0750bc7b-a59e-45e3-bb2f-8eed50989862",
   "metadata": {},
   "outputs": [
    {
     "data": {
      "text/html": [
       "<div>\n",
       "<style scoped>\n",
       "    .dataframe tbody tr th:only-of-type {\n",
       "        vertical-align: middle;\n",
       "    }\n",
       "\n",
       "    .dataframe tbody tr th {\n",
       "        vertical-align: top;\n",
       "    }\n",
       "\n",
       "    .dataframe thead th {\n",
       "        text-align: right;\n",
       "    }\n",
       "</style>\n",
       "<table border=\"1\" class=\"dataframe\">\n",
       "  <thead>\n",
       "    <tr style=\"text-align: right;\">\n",
       "      <th></th>\n",
       "      <th>USO_pct_change</th>\n",
       "      <th>TSLA_pct_change</th>\n",
       "      <th>SPY_pct_change</th>\n",
       "    </tr>\n",
       "    <tr>\n",
       "      <th>Date</th>\n",
       "      <th></th>\n",
       "      <th></th>\n",
       "      <th></th>\n",
       "    </tr>\n",
       "  </thead>\n",
       "  <tbody>\n",
       "    <tr>\n",
       "      <th>2010-06-29</th>\n",
       "      <td>NaN</td>\n",
       "      <td>NaN</td>\n",
       "      <td>NaN</td>\n",
       "    </tr>\n",
       "    <tr>\n",
       "      <th>2010-06-30</th>\n",
       "      <td>-0.006146</td>\n",
       "      <td>-0.002512</td>\n",
       "      <td>-0.009500</td>\n",
       "    </tr>\n",
       "    <tr>\n",
       "      <th>2010-07-01</th>\n",
       "      <td>-0.032097</td>\n",
       "      <td>-0.078472</td>\n",
       "      <td>-0.004456</td>\n",
       "    </tr>\n",
       "    <tr>\n",
       "      <th>2010-07-02</th>\n",
       "      <td>-0.008214</td>\n",
       "      <td>-0.125683</td>\n",
       "      <td>-0.005450</td>\n",
       "    </tr>\n",
       "    <tr>\n",
       "      <th>2010-07-06</th>\n",
       "      <td>0.000307</td>\n",
       "      <td>-0.160938</td>\n",
       "      <td>0.006556</td>\n",
       "    </tr>\n",
       "  </tbody>\n",
       "</table>\n",
       "</div>"
      ],
      "text/plain": [
       "            USO_pct_change  TSLA_pct_change  SPY_pct_change\n",
       "Date                                                       \n",
       "2010-06-29             NaN              NaN             NaN\n",
       "2010-06-30       -0.006146        -0.002512       -0.009500\n",
       "2010-07-01       -0.032097        -0.078472       -0.004456\n",
       "2010-07-02       -0.008214        -0.125683       -0.005450\n",
       "2010-07-06        0.000307        -0.160938        0.006556"
      ]
     },
     "execution_count": 194,
     "metadata": {},
     "output_type": "execute_result"
    }
   ],
   "source": [
    "daily_returns_df=closing_prices_df.drop(columns = [\"USO\",\"TSLA\",\"SPY\"], axis=1)\n",
    "daily_returns_df.head()\n",
    "#daily_returns_df.plot(figsize=(20,10),title =\"Percent Change over time\")"
   ]
  },
  {
   "cell_type": "code",
   "execution_count": 127,
   "id": "ede64df7-7b3f-4594-9b4d-37d57d917147",
   "metadata": {},
   "outputs": [
    {
     "data": {
      "text/plain": [
       "USO_pct_change     0.022700\n",
       "TSLA_pct_change    0.035274\n",
       "SPY_pct_change     0.010644\n",
       "dtype: float64"
      ]
     },
     "execution_count": 127,
     "metadata": {},
     "output_type": "execute_result"
    }
   ],
   "source": [
    "# Calculate the standard deviation for each of the tech stocks\n",
    "# call the Pandas `std` function on the `daily_returns` DataFrame\n",
    "standard_deviation = daily_returns_df.std()\n",
    "\n",
    "# Display results\n",
    "standard_deviation.head()"
   ]
  },
  {
   "cell_type": "code",
   "execution_count": 128,
   "id": "2ebcdfbb-f22a-40b9-8a4f-383b1873f6d1",
   "metadata": {},
   "outputs": [
    {
     "data": {
      "text/plain": [
       "SPY_pct_change     0.010644\n",
       "USO_pct_change     0.022700\n",
       "TSLA_pct_change    0.035274\n",
       "dtype: float64"
      ]
     },
     "execution_count": 128,
     "metadata": {},
     "output_type": "execute_result"
    }
   ],
   "source": [
    "# Sort the standard deviation values using Pandas 'sort_values' function\n",
    "standard_deviation_sorted = standard_deviation.sort_values()\n",
    "\n",
    "# Display results\n",
    "standard_deviation_sorted\n",
    "\n",
    "#Here we can see TSLA has the largest standard deviation which means it's the most risky \n",
    "#stock whereas SPY has the lowest standard deviation indicating the least risky stock"
   ]
  },
  {
   "cell_type": "code",
   "execution_count": 131,
   "id": "5793bc3c-c525-4a25-9b0f-2908f9426188",
   "metadata": {},
   "outputs": [
    {
     "data": {
      "text/plain": [
       "SPY_pct_change     0.168969\n",
       "USO_pct_change     0.360346\n",
       "TSLA_pct_change    0.559959\n",
       "dtype: float64"
      ]
     },
     "execution_count": 131,
     "metadata": {},
     "output_type": "execute_result"
    }
   ],
   "source": [
    "# Calculate the annualized standard deviation, using the standard_deviation\n",
    "# from the daily_returns DataFrame multiplied by the square root (np.sqrt)\n",
    "# of the number of trading days in a year (252)\n",
    "annualized_standard_deviation = standard_deviation * np.sqrt(252)\n",
    "\n",
    "# Display the sorted results\n",
    "annualized_standard_deviation.sort_values()"
   ]
  },
  {
   "cell_type": "code",
   "execution_count": 135,
   "id": "15ad0420-b04c-403d-acc2-2e98e48797d8",
   "metadata": {},
   "outputs": [
    {
     "data": {
      "image/png": "[encoded data removed]",
      "text/plain": [
       "<Figure size 432x288 with 1 Axes>"
      ]
     },
     "metadata": {
      "needs_background": "light"
     },
     "output_type": "display_data"
    }
   ],
   "source": [
    "# Plot box plot\n",
    "#This confirms that TSLA is the most volatile as it has the longest whiskers and had some outlier\n",
    "#which is the same confirmation from analyzing standard deviation. \n",
    "daily_returns_df.plot.box(title =\"Box Plot of Daily Returns Data\");"
   ]
  },
  {
   "cell_type": "markdown",
   "id": "23dafad7-4fc8-4284-95c1-33735682cda2",
   "metadata": {},
   "source": [
    "*Calculating Sharpe Ratio*"
   ]
  },
  {
   "cell_type": "code",
   "execution_count": 136,
   "id": "0c898681-137a-4878-919d-cd3af41db78a",
   "metadata": {},
   "outputs": [
    {
     "data": {
      "text/plain": [
       "USO_pct_change    -0.072343\n",
       "TSLA_pct_change    0.614237\n",
       "SPY_pct_change     0.143129\n",
       "dtype: float64"
      ]
     },
     "execution_count": 136,
     "metadata": {},
     "output_type": "execute_result"
    }
   ],
   "source": [
    "# Set the number of trading days for the year\n",
    "year_trading_days = 252\n",
    "\n",
    "# To calculate the annualized average return of portfolio,\n",
    "# calculate the mean of the daily return values for each stock in 'portfolio'\n",
    "# and then multiply that by the number of trading days in the year\n",
    "average_annual_return_portfolio= daily_returns_df.mean() * year_trading_days\n",
    "\n",
    "# Display the average annual return values for each stock in 'portfolio'\n",
    "average_annual_return_portfolio"
   ]
  },
  {
   "cell_type": "code",
   "execution_count": 137,
   "id": "6dd80b99-0677-49d9-b32b-33063dd15717",
   "metadata": {},
   "outputs": [
    {
     "data": {
      "text/plain": [
       "SPY_pct_change     0.168969\n",
       "USO_pct_change     0.360346\n",
       "TSLA_pct_change    0.559959\n",
       "dtype: float64"
      ]
     },
     "execution_count": 137,
     "metadata": {},
     "output_type": "execute_result"
    }
   ],
   "source": [
    "# Calculate the annualized standard deviation, using the standard_deviation\n",
    "# from the daily_returns DataFrame multiplied by the square root (np.sqrt)\n",
    "# of the number of trading days in a year (252)\n",
    "annualized_standard_deviation = standard_deviation * np.sqrt(252)\n",
    "\n",
    "# Display the sorted results\n",
    "annualized_standard_deviation.sort_values()"
   ]
  },
  {
   "cell_type": "code",
   "execution_count": 139,
   "id": "ff8551b8-f19d-4f6d-9270-01bbad048d97",
   "metadata": {},
   "outputs": [
    {
     "data": {
      "text/plain": [
       "USO_pct_change    -0.200759\n",
       "SPY_pct_change     0.847074\n",
       "TSLA_pct_change    1.096933\n",
       "dtype: float64"
      ]
     },
     "execution_count": 139,
     "metadata": {},
     "output_type": "execute_result"
    }
   ],
   "source": [
    "# Calculate Sharpe Ratio by dividing the average annual return by the standard deviation\n",
    "sharpe_ratios = average_annual_return_portfolio / annualized_standard_deviation\n",
    "# Display sorted results\n",
    "sharpe_ratios.sort_values()"
   ]
  },
  {
   "cell_type": "code",
   "execution_count": 190,
   "id": "e7e544fe-e7b9-42a4-9409-dde33a5d59b7",
   "metadata": {},
   "outputs": [
    {
     "data": {
      "image/png": "[encoded data removed]",
      "text/plain": [
       "<Figure size 432x288 with 1 Axes>"
      ]
     },
     "metadata": {
      "needs_background": "light"
     },
     "output_type": "display_data"
    }
   ],
   "source": [
    "sharpe_ratios.plot.bar(title=\"Sharpe Ratios\");"
   ]
  },
  {
   "cell_type": "markdown",
   "id": "9b3e450c-19a3-4776-807a-107b36749b99",
   "metadata": {},
   "source": [
    "**Calculating Betas**"
   ]
  },
  {
   "cell_type": "code",
   "execution_count": 142,
   "id": "b0485176-a4dd-49f0-8200-9107c7a3bf9f",
   "metadata": {},
   "outputs": [
    {
     "data": {
      "text/html": [
       "<div>\n",
       "<style scoped>\n",
       "    .dataframe tbody tr th:only-of-type {\n",
       "        vertical-align: middle;\n",
       "    }\n",
       "\n",
       "    .dataframe tbody tr th {\n",
       "        vertical-align: top;\n",
       "    }\n",
       "\n",
       "    .dataframe thead th {\n",
       "        text-align: right;\n",
       "    }\n",
       "</style>\n",
       "<table border=\"1\" class=\"dataframe\">\n",
       "  <thead>\n",
       "    <tr style=\"text-align: right;\">\n",
       "      <th></th>\n",
       "      <th>TSLA_pct_change</th>\n",
       "      <th>SPY_pct_change</th>\n",
       "    </tr>\n",
       "    <tr>\n",
       "      <th>Date</th>\n",
       "      <th></th>\n",
       "      <th></th>\n",
       "    </tr>\n",
       "  </thead>\n",
       "  <tbody>\n",
       "    <tr>\n",
       "      <th>2010-06-29</th>\n",
       "      <td>NaN</td>\n",
       "      <td>NaN</td>\n",
       "    </tr>\n",
       "    <tr>\n",
       "      <th>2010-06-30</th>\n",
       "      <td>-0.002512</td>\n",
       "      <td>-0.009500</td>\n",
       "    </tr>\n",
       "    <tr>\n",
       "      <th>2010-07-01</th>\n",
       "      <td>-0.078472</td>\n",
       "      <td>-0.004456</td>\n",
       "    </tr>\n",
       "    <tr>\n",
       "      <th>2010-07-02</th>\n",
       "      <td>-0.125683</td>\n",
       "      <td>-0.005450</td>\n",
       "    </tr>\n",
       "    <tr>\n",
       "      <th>2010-07-06</th>\n",
       "      <td>-0.160938</td>\n",
       "      <td>0.006556</td>\n",
       "    </tr>\n",
       "  </tbody>\n",
       "</table>\n",
       "</div>"
      ],
      "text/plain": [
       "            TSLA_pct_change  SPY_pct_change\n",
       "Date                                       \n",
       "2010-06-29              NaN             NaN\n",
       "2010-06-30        -0.002512       -0.009500\n",
       "2010-07-01        -0.078472       -0.004456\n",
       "2010-07-02        -0.125683       -0.005450\n",
       "2010-07-06        -0.160938        0.006556"
      ]
     },
     "execution_count": 142,
     "metadata": {},
     "output_type": "execute_result"
    }
   ],
   "source": [
    "#Calculating TSLA Beta\n",
    "daily_returns_TSLA_SPY=daily_returns_df.drop(columns = [\"USO_pct_change\"], axis=1)\n",
    "daily_returns_TSLA_SPY.head()"
   ]
  },
  {
   "cell_type": "code",
   "execution_count": 145,
   "id": "796e983b-81c8-4cbd-a424-52315247ec01",
   "metadata": {},
   "outputs": [
    {
     "data": {
      "image/png": "[encoded data removed]",
      "text/plain": [
       "<Figure size 720x504 with 1 Axes>"
      ]
     },
     "metadata": {
      "needs_background": "light"
     },
     "output_type": "display_data"
    }
   ],
   "source": [
    "# Plotting the daily returns for TSLA and the SPY\n",
    "daily_returns_TSLA_SPY.plot(figsize=(10, 7), title=\"Daily Returns - TSLA & SPY\");"
   ]
  },
  {
   "cell_type": "code",
   "execution_count": 146,
   "id": "3c7dcc39-4746-4bf9-924d-8adc0230013a",
   "metadata": {},
   "outputs": [
    {
     "data": {
      "text/plain": [
       "TSLA_pct_change    0.001244\n",
       "SPY_pct_change     0.000113\n",
       "dtype: float64"
      ]
     },
     "execution_count": 146,
     "metadata": {},
     "output_type": "execute_result"
    }
   ],
   "source": [
    "# Using the Pandas 'var' function, calculate the variance of TSLA and SPY\n",
    "daily_returns_TSLA_SPY.var()"
   ]
  },
  {
   "cell_type": "code",
   "execution_count": 148,
   "id": "2b2e3bd6-e6c7-4da6-9912-1309d3153471",
   "metadata": {},
   "outputs": [
    {
     "name": "stdout",
     "output_type": "stream",
     "text": [
      " 0.00014763 \n"
     ]
    }
   ],
   "source": [
    "# Calculate covariance of all daily returns of TSLA vs. SPY\n",
    "covariance_TSLA = daily_returns_TSLA_SPY['TSLA_pct_change'].cov(daily_returns_TSLA_SPY['SPY_pct_change'])\n",
    "\n",
    "# Display the covariance\n",
    "print(f\"{covariance_TSLA: .8f} \")"
   ]
  },
  {
   "cell_type": "code",
   "execution_count": 191,
   "id": "138f998f-ff9b-4212-ba43-b4d189f76878",
   "metadata": {},
   "outputs": [
    {
     "data": {
      "text/plain": [
       "1.3030067874364868"
      ]
     },
     "execution_count": 191,
     "metadata": {},
     "output_type": "execute_result"
    }
   ],
   "source": [
    "# Calculate beta of all daily returns of TSLA\n",
    "# Divide the covariance of TSLA versus SPY by the variance of SPY\n",
    "TSLA_beta = daily_returns_TSLA_SPY['TSLA_pct_change'].cov(daily_returns_TSLA_SPY['SPY_pct_change']) / daily_returns_TSLA_SPY[\"SPY_pct_change\"].var()\n",
    "\n",
    "# Display the TSLA$ beta\n",
    "TSLA_beta"
   ]
  },
  {
   "cell_type": "code",
   "execution_count": 152,
   "id": "63f59fc1-f268-4913-a40d-5225d268fe52",
   "metadata": {},
   "outputs": [
    {
     "data": {
      "text/html": [
       "<div>\n",
       "<style scoped>\n",
       "    .dataframe tbody tr th:only-of-type {\n",
       "        vertical-align: middle;\n",
       "    }\n",
       "\n",
       "    .dataframe tbody tr th {\n",
       "        vertical-align: top;\n",
       "    }\n",
       "\n",
       "    .dataframe thead th {\n",
       "        text-align: right;\n",
       "    }\n",
       "</style>\n",
       "<table border=\"1\" class=\"dataframe\">\n",
       "  <thead>\n",
       "    <tr style=\"text-align: right;\">\n",
       "      <th></th>\n",
       "      <th>USO_pct_change</th>\n",
       "      <th>SPY_pct_change</th>\n",
       "    </tr>\n",
       "    <tr>\n",
       "      <th>Date</th>\n",
       "      <th></th>\n",
       "      <th></th>\n",
       "    </tr>\n",
       "  </thead>\n",
       "  <tbody>\n",
       "    <tr>\n",
       "      <th>2010-06-29</th>\n",
       "      <td>NaN</td>\n",
       "      <td>NaN</td>\n",
       "    </tr>\n",
       "    <tr>\n",
       "      <th>2010-06-30</th>\n",
       "      <td>-0.006146</td>\n",
       "      <td>-0.009500</td>\n",
       "    </tr>\n",
       "    <tr>\n",
       "      <th>2010-07-01</th>\n",
       "      <td>-0.032097</td>\n",
       "      <td>-0.004456</td>\n",
       "    </tr>\n",
       "    <tr>\n",
       "      <th>2010-07-02</th>\n",
       "      <td>-0.008214</td>\n",
       "      <td>-0.005450</td>\n",
       "    </tr>\n",
       "    <tr>\n",
       "      <th>2010-07-06</th>\n",
       "      <td>0.000307</td>\n",
       "      <td>0.006556</td>\n",
       "    </tr>\n",
       "  </tbody>\n",
       "</table>\n",
       "</div>"
      ],
      "text/plain": [
       "            USO_pct_change  SPY_pct_change\n",
       "Date                                      \n",
       "2010-06-29             NaN             NaN\n",
       "2010-06-30       -0.006146       -0.009500\n",
       "2010-07-01       -0.032097       -0.004456\n",
       "2010-07-02       -0.008214       -0.005450\n",
       "2010-07-06        0.000307        0.006556"
      ]
     },
     "execution_count": 152,
     "metadata": {},
     "output_type": "execute_result"
    }
   ],
   "source": [
    "#Calculating USO Beta\n",
    "daily_returns_USO_SPY=daily_returns_df.drop(columns = [\"TSLA_pct_change\"], axis=1)\n",
    "daily_returns_USO_SPY.head()"
   ]
  },
  {
   "cell_type": "code",
   "execution_count": 153,
   "id": "cf0cc85c-c04b-4e95-8098-4d0ce3c95fb9",
   "metadata": {},
   "outputs": [
    {
     "data": {
      "image/png": "[encoded data removed]",
      "text/plain": [
       "<Figure size 720x504 with 1 Axes>"
      ]
     },
     "metadata": {
      "needs_background": "light"
     },
     "output_type": "display_data"
    }
   ],
   "source": [
    "# Plotting the daily returns for USO and the SPY\n",
    "daily_returns_USO_SPY.plot(figsize=(10, 7), title=\"Daily Returns - USO & SPY\");"
   ]
  },
  {
   "cell_type": "code",
   "execution_count": 154,
   "id": "ee4366cb-d7df-4198-9651-5a451f0edeac",
   "metadata": {},
   "outputs": [
    {
     "data": {
      "text/plain": [
       "USO_pct_change    0.000515\n",
       "SPY_pct_change    0.000113\n",
       "dtype: float64"
      ]
     },
     "execution_count": 154,
     "metadata": {},
     "output_type": "execute_result"
    }
   ],
   "source": [
    "# Using the Pandas 'var' function, calculate the variance of USO and SPY\n",
    "daily_returns_USO_SPY.var()"
   ]
  },
  {
   "cell_type": "code",
   "execution_count": 155,
   "id": "ae7e2414-f796-480e-934c-9ea334aabb2f",
   "metadata": {},
   "outputs": [
    {
     "name": "stdout",
     "output_type": "stream",
     "text": [
      " 0.00009619 \n"
     ]
    }
   ],
   "source": [
    "# Calculate covariance of all daily returns of USO vs. SPY\n",
    "covariance_USO = daily_returns_USO_SPY['USO_pct_change'].cov(daily_returns_USO_SPY['SPY_pct_change'])\n",
    "\n",
    "# Display the covariance\n",
    "print(f\"{covariance_USO: .8f} \")"
   ]
  },
  {
   "cell_type": "code",
   "execution_count": 156,
   "id": "72ca3991-532c-4738-8340-cd70c9dc880d",
   "metadata": {},
   "outputs": [
    {
     "data": {
      "text/plain": [
       "0.8490111831604799"
      ]
     },
     "execution_count": 156,
     "metadata": {},
     "output_type": "execute_result"
    }
   ],
   "source": [
    "# Calculate beta of all daily returns of USO\n",
    "# Divide the covariance of USO versus SPY by the variance of SPY\n",
    "USO_beta = daily_returns_USO_SPY['USO_pct_change'].cov(daily_returns_USO_SPY['SPY_pct_change']) / daily_returns_USO_SPY[\"SPY_pct_change\"].var()\n",
    "\n",
    "# Display the USO beta\n",
    "USO_beta"
   ]
  }
 ],
 "metadata": {
  "kernelspec": {
   "display_name": "Python 3 (ipykernel)",
   "language": "python",
   "name": "python3"
  },
  "language_info": {
   "codemirror_mode": {
    "name": "ipython",
    "version": 3
   },
   "file_extension": ".py",
   "mimetype": "text/x-python",
   "name": "python",
   "nbconvert_exporter": "python",
   "pygments_lexer": "ipython3",
   "version": "3.8.8"
  }
 },
 "nbformat": 4,
 "nbformat_minor": 5
}
